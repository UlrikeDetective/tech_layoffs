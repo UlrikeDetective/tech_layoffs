{
 "cells": [
  {
   "cell_type": "markdown",
   "metadata": {},
   "source": [
    "Praktice with sunburst charts and treemap charts on the tech layoffs dataset.\n",
    "\n",
    "Let's explore!"
   ]
  },
  {
   "cell_type": "code",
   "execution_count": null,
   "metadata": {
    "_cell_guid": "b1076dfc-b9ad-4769-8c92-a6c4dae69d19",
    "_uuid": "8f2839f25d086af736a60e9eeb907d3b93b6e0e5",
    "execution": {
     "iopub.execute_input": "2024-07-08T17:15:21.418641Z",
     "iopub.status.busy": "2024-07-08T17:15:21.418230Z",
     "iopub.status.idle": "2024-07-08T17:15:21.472346Z",
     "shell.execute_reply": "2024-07-08T17:15:21.471104Z",
     "shell.execute_reply.started": "2024-07-08T17:15:21.418607Z"
    },
    "trusted": true
   },
   "outputs": [
    {
     "data": {
      "text/html": [
       "<div>\n",
       "<style scoped>\n",
       "    .dataframe tbody tr th:only-of-type {\n",
       "        vertical-align: middle;\n",
       "    }\n",
       "\n",
       "    .dataframe tbody tr th {\n",
       "        vertical-align: top;\n",
       "    }\n",
       "\n",
       "    .dataframe thead th {\n",
       "        text-align: right;\n",
       "    }\n",
       "</style>\n",
       "<table border=\"1\" class=\"dataframe\">\n",
       "  <thead>\n",
       "    <tr style=\"text-align: right;\">\n",
       "      <th></th>\n",
       "      <th>Nr</th>\n",
       "      <th>Company</th>\n",
       "      <th>Location_HQ</th>\n",
       "      <th>Region</th>\n",
       "      <th>USState</th>\n",
       "      <th>Country</th>\n",
       "      <th>Continent</th>\n",
       "      <th>Laid_Off</th>\n",
       "      <th>Date_layoffs</th>\n",
       "      <th>Percentage</th>\n",
       "      <th>Company_Size_before_Layoffs</th>\n",
       "      <th>Company_Size_after_layoffs</th>\n",
       "      <th>Industry</th>\n",
       "      <th>Stage</th>\n",
       "      <th>Money_Raised_in__mil</th>\n",
       "      <th>Year</th>\n",
       "      <th>latitude</th>\n",
       "      <th>longitude</th>\n",
       "    </tr>\n",
       "  </thead>\n",
       "  <tbody>\n",
       "    <tr>\n",
       "      <th>0</th>\n",
       "      <td>1</td>\n",
       "      <td>Tamara Mellon</td>\n",
       "      <td>Los Angeles</td>\n",
       "      <td>0</td>\n",
       "      <td>California</td>\n",
       "      <td>USA</td>\n",
       "      <td>North America</td>\n",
       "      <td>20.0</td>\n",
       "      <td>2020-03-12</td>\n",
       "      <td>40,0</td>\n",
       "      <td>50.0</td>\n",
       "      <td>30.0</td>\n",
       "      <td>Retail</td>\n",
       "      <td>Series C</td>\n",
       "      <td>90</td>\n",
       "      <td>2020</td>\n",
       "      <td>34,0536909</td>\n",
       "      <td>-118,242766</td>\n",
       "    </tr>\n",
       "    <tr>\n",
       "      <th>1</th>\n",
       "      <td>2</td>\n",
       "      <td>HopSkipDrive</td>\n",
       "      <td>Los Angeles</td>\n",
       "      <td>0</td>\n",
       "      <td>California</td>\n",
       "      <td>USA</td>\n",
       "      <td>North America</td>\n",
       "      <td>8.0</td>\n",
       "      <td>2020-03-13</td>\n",
       "      <td>10,0</td>\n",
       "      <td>80.0</td>\n",
       "      <td>72.0</td>\n",
       "      <td>Transportation</td>\n",
       "      <td>Unknown</td>\n",
       "      <td>45</td>\n",
       "      <td>2020</td>\n",
       "      <td>34,0536909</td>\n",
       "      <td>-118,242766</td>\n",
       "    </tr>\n",
       "    <tr>\n",
       "      <th>2</th>\n",
       "      <td>3</td>\n",
       "      <td>Panda Squad</td>\n",
       "      <td>San Francisco</td>\n",
       "      <td>San Francisco Bay Area</td>\n",
       "      <td>California</td>\n",
       "      <td>USA</td>\n",
       "      <td>North America</td>\n",
       "      <td>6.0</td>\n",
       "      <td>2020-03-13</td>\n",
       "      <td>75,0</td>\n",
       "      <td>8.0</td>\n",
       "      <td>2.0</td>\n",
       "      <td>Consumer</td>\n",
       "      <td>Seed</td>\n",
       "      <td>1</td>\n",
       "      <td>2020</td>\n",
       "      <td>37,7792588</td>\n",
       "      <td>-122,4193286</td>\n",
       "    </tr>\n",
       "    <tr>\n",
       "      <th>3</th>\n",
       "      <td>4</td>\n",
       "      <td>Help.com</td>\n",
       "      <td>Austin</td>\n",
       "      <td>0</td>\n",
       "      <td>Texas</td>\n",
       "      <td>USA</td>\n",
       "      <td>North America</td>\n",
       "      <td>16.0</td>\n",
       "      <td>2020-03-16</td>\n",
       "      <td>100,0</td>\n",
       "      <td>16.0</td>\n",
       "      <td>0.0</td>\n",
       "      <td>Support</td>\n",
       "      <td>Seed</td>\n",
       "      <td>6</td>\n",
       "      <td>2020</td>\n",
       "      <td>30,2711286</td>\n",
       "      <td>-97,7436995</td>\n",
       "    </tr>\n",
       "    <tr>\n",
       "      <th>4</th>\n",
       "      <td>5</td>\n",
       "      <td>Inspirato</td>\n",
       "      <td>Denver</td>\n",
       "      <td>0</td>\n",
       "      <td>Colorado</td>\n",
       "      <td>USA</td>\n",
       "      <td>North America</td>\n",
       "      <td>130.0</td>\n",
       "      <td>2020-03-16</td>\n",
       "      <td>22,0</td>\n",
       "      <td>591.0</td>\n",
       "      <td>461.0</td>\n",
       "      <td>Travel</td>\n",
       "      <td>Series C</td>\n",
       "      <td>79</td>\n",
       "      <td>2020</td>\n",
       "      <td>39,7392364</td>\n",
       "      <td>-104,984862</td>\n",
       "    </tr>\n",
       "  </tbody>\n",
       "</table>\n",
       "</div>"
      ],
      "text/plain": [
       "   Nr        Company    Location_HQ                  Region     USState  \\\n",
       "0   1  Tamara Mellon    Los Angeles                       0  California   \n",
       "1   2   HopSkipDrive    Los Angeles                       0  California   \n",
       "2   3    Panda Squad  San Francisco  San Francisco Bay Area  California   \n",
       "3   4       Help.com         Austin                       0       Texas   \n",
       "4   5      Inspirato         Denver                       0    Colorado   \n",
       "\n",
       "  Country      Continent  Laid_Off Date_layoffs Percentage  \\\n",
       "0     USA  North America      20.0   2020-03-12       40,0   \n",
       "1     USA  North America       8.0   2020-03-13       10,0   \n",
       "2     USA  North America       6.0   2020-03-13       75,0   \n",
       "3     USA  North America      16.0   2020-03-16      100,0   \n",
       "4     USA  North America     130.0   2020-03-16       22,0   \n",
       "\n",
       "   Company_Size_before_Layoffs  Company_Size_after_layoffs        Industry  \\\n",
       "0                         50.0                        30.0          Retail   \n",
       "1                         80.0                        72.0  Transportation   \n",
       "2                          8.0                         2.0        Consumer   \n",
       "3                         16.0                         0.0         Support   \n",
       "4                        591.0                       461.0          Travel   \n",
       "\n",
       "      Stage Money_Raised_in__mil  Year    latitude     longitude  \n",
       "0  Series C                   90  2020  34,0536909   -118,242766  \n",
       "1   Unknown                   45  2020  34,0536909   -118,242766  \n",
       "2      Seed                    1  2020  37,7792588  -122,4193286  \n",
       "3      Seed                    6  2020  30,2711286   -97,7436995  \n",
       "4  Series C                   79  2020  39,7392364   -104,984862  "
      ]
     },
     "metadata": {},
     "output_type": "display_data"
    },
    {
     "name": "stdout",
     "output_type": "stream",
     "text": [
      "<class 'pandas.core.frame.DataFrame'>\n",
      "RangeIndex: 2248 entries, 0 to 2247\n",
      "Data columns (total 18 columns):\n",
      " #   Column                       Non-Null Count  Dtype  \n",
      "---  ------                       --------------  -----  \n",
      " 0   Nr                           2248 non-null   int64  \n",
      " 1   Company                      2248 non-null   object \n",
      " 2   Location_HQ                  2248 non-null   object \n",
      " 3   Region                       2248 non-null   object \n",
      " 4   USState                      2248 non-null   object \n",
      " 5   Country                      2248 non-null   object \n",
      " 6   Continent                    2248 non-null   object \n",
      " 7   Laid_Off                     1930 non-null   float64\n",
      " 8   Date_layoffs                 2248 non-null   object \n",
      " 9   Percentage                   1908 non-null   object \n",
      " 10  Company_Size_before_Layoffs  1740 non-null   float64\n",
      " 11  Company_Size_after_layoffs   1822 non-null   float64\n",
      " 12  Industry                     2248 non-null   object \n",
      " 13  Stage                        2248 non-null   object \n",
      " 14  Money_Raised_in__mil         2048 non-null   object \n",
      " 15  Year                         2248 non-null   int64  \n",
      " 16  latitude                     2248 non-null   object \n",
      " 17  longitude                    2248 non-null   object \n",
      "dtypes: float64(3), int64(2), object(13)\n",
      "memory usage: 316.3+ KB\n"
     ]
    },
    {
     "data": {
      "text/plain": [
       "None"
      ]
     },
     "metadata": {},
     "output_type": "display_data"
    }
   ],
   "source": [
    "# Loading dataframe\n",
    "import pandas as pd\n",
    "\n",
    "df = pd.read_csv(\"/TechLayoffsTracker_Q22025.csv\", delimiter=\";\")\n",
    "\n",
    "# Display the first few rows of the DataFrame\n",
    "display(df.head())\n",
    "\n",
    "# Display the DataFrame information\n",
    "display(df.info(verbose=True))"
   ]
  },
  {
   "cell_type": "markdown",
   "metadata": {},
   "source": [
    "Let`s start with the sunburst and treemap charts\n",
    "\n",
    "The following code creates a DataFrame that shows how many times each combination of Country and Location_HQ appears in the original DataFrame df. The result will include three columns: Country, Location_HQ, and size (the count of occurrences for each combination)."
   ]
  },
  {
   "cell_type": "code",
   "execution_count": 2,
   "metadata": {
    "execution": {
     "iopub.execute_input": "2024-07-08T17:21:35.149195Z",
     "iopub.status.busy": "2024-07-08T17:21:35.148436Z",
     "iopub.status.idle": "2024-07-08T17:21:35.163258Z",
     "shell.execute_reply": "2024-07-08T17:21:35.161746Z",
     "shell.execute_reply.started": "2024-07-08T17:21:35.149143Z"
    },
    "trusted": true
   },
   "outputs": [],
   "source": [
    "gr_cat = df[[\"Country\",\n",
    "             \"Location_HQ\"]].groupby([\"Country\",\n",
    "                                       \"Location_HQ\"], as_index=False).size()"
   ]
  },
  {
   "cell_type": "markdown",
   "metadata": {},
   "source": [
    "**Sunburst Chart**\n",
    "\n",
    "This code imports the plotly.express library and uses it to create a sunburst chart from the DataFrame gr_cat. The chart is configured to show the hierarchy of tech layoffs by country and location headquarters, with the size of each segment representing the number of layoffs. Each segment is colored according to its country. The chart is set to a width of 1280 pixels and a height of 800 pixels, and it has a custom title: \"Locations of tech layoffs by location HQ and countries (cities in total number)\". The layout of the chart is further customized by adjusting the font size and margins. The trace information is updated to display both the label and the percentage of the parent segment. Finally, the chart is displayed on the screen using fig.show()."
   ]
  },
  {
   "cell_type": "code",
   "execution_count": 7,
   "metadata": {},
   "outputs": [
    {
     "name": "stdout",
     "output_type": "stream",
     "text": [
      "Requirement already satisfied: pip in /Users/ulrike_imac_air/projects/DataScienceProjects/tech_layoffs_project/tech_env/lib/python3.13/site-packages (25.0)\n",
      "Collecting pip\n",
      "  Downloading pip-25.1.1-py3-none-any.whl.metadata (3.6 kB)\n",
      "Downloading pip-25.1.1-py3-none-any.whl (1.8 MB)\n",
      "\u001b[2K   \u001b[90m━━━━━━━━━━━━━━━━━━━━━━━━━━━━━━━━━━━━━━━━\u001b[0m \u001b[32m1.8/1.8 MB\u001b[0m \u001b[31m1.1 MB/s\u001b[0m eta \u001b[36m0:00:00\u001b[0ma \u001b[36m0:00:01\u001b[0m0m\n",
      "\u001b[?25hInstalling collected packages: pip\n",
      "  Attempting uninstall: pip\n",
      "    Found existing installation: pip 25.0\n",
      "    Uninstalling pip-25.0:\n",
      "      Successfully uninstalled pip-25.0\n",
      "Successfully installed pip-25.1.1\n",
      "Note: you may need to restart the kernel to use updated packages.\n"
     ]
    }
   ],
   "source": [
    "%pip install --upgrade pip"
   ]
  },
  {
   "cell_type": "code",
   "execution_count": 9,
   "metadata": {},
   "outputs": [
    {
     "name": "stdout",
     "output_type": "stream",
     "text": [
      "Collecting plotly\n",
      "  Downloading plotly-6.2.0-py3-none-any.whl.metadata (8.5 kB)\n",
      "Collecting narwhals>=1.15.1 (from plotly)\n",
      "  Downloading narwhals-1.46.0-py3-none-any.whl.metadata (11 kB)\n",
      "Requirement already satisfied: packaging in /Users/ulrike_imac_air/projects/DataScienceProjects/tech_layoffs_project/tech_env/lib/python3.13/site-packages (from plotly) (25.0)\n",
      "Downloading plotly-6.2.0-py3-none-any.whl (9.6 MB)\n",
      "\u001b[2K   \u001b[90m━━━━━━━━━━━━━━━━━━━━━━━━━━━━━━━━━━━━━━━━\u001b[0m \u001b[32m9.6/9.6 MB\u001b[0m \u001b[31m1.2 MB/s\u001b[0m eta \u001b[36m0:00:00\u001b[0m00:01\u001b[0m00:01\u001b[0m0m\n",
      "\u001b[?25hDownloading narwhals-1.46.0-py3-none-any.whl (373 kB)\n",
      "Installing collected packages: narwhals, plotly\n",
      "\u001b[2K   \u001b[90m━━━━━━━━━━━━━━━━━━━━━━━━━━━━━━━━━━━━━━━━\u001b[0m \u001b[32m2/2\u001b[0m [plotly]2m1/2\u001b[0m [plotly]\n",
      "\u001b[1A\u001b[2KSuccessfully installed narwhals-1.46.0 plotly-6.2.0\n",
      "Note: you may need to restart the kernel to use updated packages.\n"
     ]
    }
   ],
   "source": [
    "%pip install plotly"
   ]
  },
  {
   "cell_type": "code",
   "execution_count": 5,
   "metadata": {},
   "outputs": [
    {
     "name": "stdout",
     "output_type": "stream",
     "text": [
      "Collecting nbformat>=4.2.0\n",
      "  Downloading nbformat-5.10.4-py3-none-any.whl.metadata (3.6 kB)\n",
      "Collecting fastjsonschema>=2.15 (from nbformat>=4.2.0)\n",
      "  Downloading fastjsonschema-2.21.1-py3-none-any.whl.metadata (2.2 kB)\n",
      "Collecting jsonschema>=2.6 (from nbformat>=4.2.0)\n",
      "  Downloading jsonschema-4.24.0-py3-none-any.whl.metadata (7.8 kB)\n",
      "Requirement already satisfied: jupyter-core!=5.0.*,>=4.12 in /Users/ulrike_imac_air/projects/DataScienceProjects/tech_layoffs_project/tech_env/lib/python3.13/site-packages (from nbformat>=4.2.0) (5.8.1)\n",
      "Requirement already satisfied: traitlets>=5.1 in /Users/ulrike_imac_air/projects/DataScienceProjects/tech_layoffs_project/tech_env/lib/python3.13/site-packages (from nbformat>=4.2.0) (5.14.3)\n",
      "Collecting attrs>=22.2.0 (from jsonschema>=2.6->nbformat>=4.2.0)\n",
      "  Downloading attrs-25.3.0-py3-none-any.whl.metadata (10 kB)\n",
      "Collecting jsonschema-specifications>=2023.03.6 (from jsonschema>=2.6->nbformat>=4.2.0)\n",
      "  Downloading jsonschema_specifications-2025.4.1-py3-none-any.whl.metadata (2.9 kB)\n",
      "Collecting referencing>=0.28.4 (from jsonschema>=2.6->nbformat>=4.2.0)\n",
      "  Downloading referencing-0.36.2-py3-none-any.whl.metadata (2.8 kB)\n",
      "Collecting rpds-py>=0.7.1 (from jsonschema>=2.6->nbformat>=4.2.0)\n",
      "  Downloading rpds_py-0.26.0-cp313-cp313-macosx_11_0_arm64.whl.metadata (4.2 kB)\n",
      "Requirement already satisfied: platformdirs>=2.5 in /Users/ulrike_imac_air/projects/DataScienceProjects/tech_layoffs_project/tech_env/lib/python3.13/site-packages (from jupyter-core!=5.0.*,>=4.12->nbformat>=4.2.0) (4.3.8)\n",
      "Downloading nbformat-5.10.4-py3-none-any.whl (78 kB)\n",
      "Downloading fastjsonschema-2.21.1-py3-none-any.whl (23 kB)\n",
      "Downloading jsonschema-4.24.0-py3-none-any.whl (88 kB)\n",
      "Downloading attrs-25.3.0-py3-none-any.whl (63 kB)\n",
      "Downloading jsonschema_specifications-2025.4.1-py3-none-any.whl (18 kB)\n",
      "Downloading referencing-0.36.2-py3-none-any.whl (26 kB)\n",
      "Downloading rpds_py-0.26.0-cp313-cp313-macosx_11_0_arm64.whl (350 kB)\n",
      "Installing collected packages: fastjsonschema, rpds-py, attrs, referencing, jsonschema-specifications, jsonschema, nbformat\n",
      "\u001b[2K   \u001b[90m━━━━━━━━━━━━━━━━━━━━━━━━━━━━━━━━━━━━━━━━\u001b[0m \u001b[32m7/7\u001b[0m [nbformat]\n",
      "\u001b[1A\u001b[2KSuccessfully installed attrs-25.3.0 fastjsonschema-2.21.1 jsonschema-4.24.0 jsonschema-specifications-2025.4.1 nbformat-5.10.4 referencing-0.36.2 rpds-py-0.26.0\n",
      "Note: you may need to restart the kernel to use updated packages.\n"
     ]
    }
   ],
   "source": [
    "%pip install \"nbformat>=4.2.0\""
   ]
  },
  {
   "cell_type": "code",
   "execution_count": 6,
   "metadata": {
    "execution": {
     "iopub.execute_input": "2024-07-08T17:22:02.291072Z",
     "iopub.status.busy": "2024-07-08T17:22:02.290646Z",
     "iopub.status.idle": "2024-07-08T17:22:05.484834Z",
     "shell.execute_reply": "2024-07-08T17:22:05.483727Z",
     "shell.execute_reply.started": "2024-07-08T17:22:02.291038Z"
    },
    "trusted": true
   },
   "outputs": [
    {
     "data": {
      "application/vnd.plotly.v1+json": {
       "config": {
        "plotlyServerURL": "https://plot.ly"
       },
       "data": [
        {
         "branchvalues": "total",
         "customdata": [
          [
           "Argentina"
          ],
          [
           "Argentina"
          ],
          [
           "Australia"
          ],
          [
           "Australia"
          ],
          [
           "Australia"
          ],
          [
           "Australia"
          ],
          [
           "Australia"
          ],
          [
           "Austria"
          ],
          [
           "Austria"
          ],
          [
           "Austria"
          ],
          [
           "Belgium"
          ],
          [
           "Belgium"
          ],
          [
           "Brazil"
          ],
          [
           "Brazil"
          ],
          [
           "Brazil"
          ],
          [
           "Brazil"
          ],
          [
           "Brazil"
          ],
          [
           "Brazil"
          ],
          [
           "Brazil"
          ],
          [
           "Canada"
          ],
          [
           "Canada"
          ],
          [
           "Canada"
          ],
          [
           "Canada"
          ],
          [
           "Canada"
          ],
          [
           "Canada"
          ],
          [
           "Canada"
          ],
          [
           "Canada"
          ],
          [
           "Canada"
          ],
          [
           "Canada"
          ],
          [
           "Canada"
          ],
          [
           "Canada"
          ],
          [
           "Canada"
          ],
          [
           "Cayman Islands"
          ],
          [
           "Cayman Islands"
          ],
          [
           "Chile"
          ],
          [
           "Chile"
          ],
          [
           "China"
          ],
          [
           "China"
          ],
          [
           "China"
          ],
          [
           "China"
          ],
          [
           "China"
          ],
          [
           "Cyprus"
          ],
          [
           "Cyprus"
          ],
          [
           "Czech Republic"
          ],
          [
           "Czech Republic"
          ],
          [
           "Czech Republic"
          ],
          [
           "Denmark"
          ],
          [
           "Denmark"
          ],
          [
           "Estonia"
          ],
          [
           "Estonia"
          ],
          [
           "Finland"
          ],
          [
           "Finland"
          ],
          [
           "Finland"
          ],
          [
           "France"
          ],
          [
           "France"
          ],
          [
           "Germany"
          ],
          [
           "Germany"
          ],
          [
           "Germany"
          ],
          [
           "Germany"
          ],
          [
           "Germany"
          ],
          [
           "Germany"
          ],
          [
           "Germany"
          ],
          [
           "Germany"
          ],
          [
           "Germany"
          ],
          [
           "Hong Kong"
          ],
          [
           "Hong Kong"
          ],
          [
           "India"
          ],
          [
           "India"
          ],
          [
           "India"
          ],
          [
           "India"
          ],
          [
           "India"
          ],
          [
           "India"
          ],
          [
           "India"
          ],
          [
           "India"
          ],
          [
           "India"
          ],
          [
           "India"
          ],
          [
           "India"
          ],
          [
           "Indonesia"
          ],
          [
           "Indonesia"
          ],
          [
           "Indonesia"
          ],
          [
           "Ireland"
          ],
          [
           "Ireland"
          ],
          [
           "Israel"
          ],
          [
           "Israel"
          ],
          [
           "Israel"
          ],
          [
           "Israel"
          ],
          [
           "Israel"
          ],
          [
           "Israel"
          ],
          [
           "Israel"
          ],
          [
           "Israel"
          ],
          [
           "Israel"
          ],
          [
           "Israel"
          ],
          [
           "Japan"
          ],
          [
           "Japan"
          ],
          [
           "Kenya"
          ],
          [
           "Kenya"
          ],
          [
           "Lithuania"
          ],
          [
           "Lithuania"
          ],
          [
           "Malaysia"
          ],
          [
           "Malaysia"
          ],
          [
           "Malta"
          ],
          [
           "Malta"
          ],
          [
           "Mexico"
          ],
          [
           "Mexico"
          ],
          [
           "Mexico"
          ],
          [
           "Netherlands"
          ],
          [
           "Netherlands"
          ],
          [
           "Netherlands"
          ],
          [
           "New Zealand"
          ],
          [
           "New Zealand"
          ],
          [
           "New Zealand"
          ],
          [
           "Nigeria"
          ],
          [
           "Nigeria"
          ],
          [
           "Nigeria"
          ],
          [
           "Norway"
          ],
          [
           "Norway"
          ],
          [
           "Pakistan"
          ],
          [
           "Pakistan"
          ],
          [
           "Pakistan"
          ],
          [
           "Poland"
          ],
          [
           "Poland"
          ],
          [
           "Poland"
          ],
          [
           "Poland"
          ],
          [
           "Portugal"
          ],
          [
           "Portugal"
          ],
          [
           "Russia"
          ],
          [
           "Russia"
          ],
          [
           "Senegal"
          ],
          [
           "Senegal"
          ],
          [
           "Singapore"
          ],
          [
           "Singapore"
          ],
          [
           "South Korea"
          ],
          [
           "South Korea"
          ],
          [
           "Spain"
          ],
          [
           "Spain"
          ],
          [
           "Spain"
          ],
          [
           "Sweden"
          ],
          [
           "Sweden"
          ],
          [
           "Sweden"
          ],
          [
           "Sweden"
          ],
          [
           "Switzerland"
          ],
          [
           "Switzerland"
          ],
          [
           "Thailand"
          ],
          [
           "Thailand"
          ],
          [
           "UK"
          ],
          [
           "UK"
          ],
          [
           "UK"
          ],
          [
           "UK"
          ],
          [
           "UK"
          ],
          [
           "UK"
          ],
          [
           "UK"
          ],
          [
           "UK"
          ],
          [
           "UK"
          ],
          [
           "USA"
          ],
          [
           "USA"
          ],
          [
           "USA"
          ],
          [
           "USA"
          ],
          [
           "USA"
          ],
          [
           "USA"
          ],
          [
           "USA"
          ],
          [
           "USA"
          ],
          [
           "USA"
          ],
          [
           "USA"
          ],
          [
           "USA"
          ],
          [
           "USA"
          ],
          [
           "USA"
          ],
          [
           "USA"
          ],
          [
           "USA"
          ],
          [
           "USA"
          ],
          [
           "USA"
          ],
          [
           "USA"
          ],
          [
           "USA"
          ],
          [
           "USA"
          ],
          [
           "USA"
          ],
          [
           "USA"
          ],
          [
           "USA"
          ],
          [
           "USA"
          ],
          [
           "USA"
          ],
          [
           "USA"
          ],
          [
           "USA"
          ],
          [
           "USA"
          ],
          [
           "USA"
          ],
          [
           "USA"
          ],
          [
           "USA"
          ],
          [
           "USA"
          ],
          [
           "USA"
          ],
          [
           "USA"
          ],
          [
           "USA"
          ],
          [
           "USA"
          ],
          [
           "USA"
          ],
          [
           "USA"
          ],
          [
           "USA"
          ],
          [
           "USA"
          ],
          [
           "USA"
          ],
          [
           "USA"
          ],
          [
           "USA"
          ],
          [
           "USA"
          ],
          [
           "USA"
          ],
          [
           "USA"
          ],
          [
           "USA"
          ],
          [
           "USA"
          ],
          [
           "USA"
          ],
          [
           "USA"
          ],
          [
           "USA"
          ],
          [
           "USA"
          ],
          [
           "USA"
          ],
          [
           "USA"
          ],
          [
           "USA"
          ],
          [
           "USA"
          ],
          [
           "USA"
          ],
          [
           "USA"
          ],
          [
           "USA"
          ],
          [
           "USA"
          ],
          [
           "USA"
          ],
          [
           "USA"
          ],
          [
           "USA"
          ],
          [
           "USA"
          ],
          [
           "USA"
          ],
          [
           "USA"
          ],
          [
           "USA"
          ],
          [
           "USA"
          ],
          [
           "USA"
          ],
          [
           "USA"
          ],
          [
           "USA"
          ],
          [
           "USA"
          ],
          [
           "USA"
          ],
          [
           "USA"
          ],
          [
           "USA"
          ],
          [
           "USA"
          ],
          [
           "USA"
          ],
          [
           "USA"
          ],
          [
           "USA"
          ],
          [
           "USA"
          ],
          [
           "USA"
          ],
          [
           "USA"
          ],
          [
           "USA"
          ],
          [
           "USA"
          ],
          [
           "USA"
          ],
          [
           "USA"
          ],
          [
           "USA"
          ],
          [
           "USA"
          ],
          [
           "USA"
          ],
          [
           "USA"
          ],
          [
           "USA"
          ],
          [
           "USA"
          ],
          [
           "USA"
          ],
          [
           "USA"
          ],
          [
           "USA"
          ],
          [
           "USA"
          ],
          [
           "USA"
          ],
          [
           "USA"
          ],
          [
           "USA"
          ],
          [
           "USA"
          ],
          [
           "USA"
          ],
          [
           "USA"
          ],
          [
           "USA"
          ],
          [
           "USA"
          ],
          [
           "USA"
          ],
          [
           "USA"
          ],
          [
           "USA"
          ],
          [
           "USA"
          ],
          [
           "USA"
          ],
          [
           "USA"
          ],
          [
           "USA"
          ],
          [
           "USA"
          ],
          [
           "USA"
          ],
          [
           "USA"
          ],
          [
           "USA"
          ],
          [
           "USA"
          ],
          [
           "United Arabian Emirates"
          ],
          [
           "United Arabian Emirates"
          ],
          [
           "United Kingdom"
          ],
          [
           "United Kingdom"
          ],
          [
           "United Kingdom"
          ],
          [
           "United Kingdom"
          ],
          [
           "Uruquay"
          ],
          [
           "Uruquay"
          ]
         ],
         "domain": {
          "x": [
           0,
           1
          ],
          "y": [
           0,
           1
          ]
         },
         "hovertemplate": "labels=%{label}<br>size=%{value}<br>parent=%{parent}<br>id=%{id}<br>Country=%{customdata[0]}<extra></extra>",
         "ids": [
          "Argentina/Buenos Aires",
          "Argentina",
          "Australia/Brisbane",
          "Australia/Melbourne",
          "Australia/Sydney",
          "Australia/Adelaide",
          "Australia",
          "Austria",
          "Austria/Linz",
          "Austria/Vienna",
          "Belgium",
          "Belgium/Ghent",
          "Brazil/Belo Horizonte",
          "Brazil/Blumenau",
          "Brazil/Curitiba",
          "Brazil/Florianopolis",
          "Brazil/Joinville",
          "Brazil/Sao Paulo",
          "Brazil",
          "Canada",
          "Canada/Winnipeg",
          "Canada/Waterloo",
          "Canada/Vancouver",
          "Canada/Toronto",
          "Canada/Quebec",
          "Canada/Montreal",
          "Canada/London",
          "Canada/Kitchener",
          "Canada/Ferdericton",
          "Canada/Calgary",
          "Canada/Saskatoon",
          "Canada/Ottawa",
          "Cayman Islands/Cayman Islands",
          "Cayman Islands",
          "Chile/Santiago",
          "Chile",
          "China",
          "China/Beijing",
          "China/Shanghai",
          "China/Xi'an",
          "China/Bejing",
          "Cyprus/Nicosia",
          "Cyprus",
          "Czech Republic/Prague",
          "Czech Republic/Brno",
          "Czech Republic",
          "Denmark/Copenhagen",
          "Denmark",
          "Estonia/Tallinn",
          "Estonia",
          "Finland",
          "Finland/Helsinki",
          "Finland/Espoo",
          "France/Paris",
          "France",
          "Germany",
          "Germany/Frankfurt am Main",
          "Germany/Boston",
          "Germany/Berlin",
          "Germany/Hamburg",
          "Germany/Karlsruhe",
          "Germany/Kiel",
          "Germany/Munich",
          "Germany/Walldorf",
          "Hong Kong/Hong Kong",
          "Hong Kong",
          "India/Ahmedabad",
          "India/Bengaluru",
          "India/Chennai",
          "India/Fremont",
          "India/Noida",
          "India/Mumbai",
          "India/Nashik",
          "India",
          "India/Pune",
          "India/New Delhi",
          "India/Gurugram",
          "Indonesia",
          "Indonesia/Jakarta",
          "Indonesia/Indonesia",
          "Ireland",
          "Ireland/Dublin",
          "Israel",
          "Israel/Ness Ziona",
          "Israel/Tel Aviv ",
          "Israel/Haifa",
          "Israel/Jerusalem",
          "Israel/Kfar Saba",
          "Israel/Ra'anana",
          "Israel/Sderot",
          "Israel/Tel Aviv",
          "Israel/Yavne",
          "Japan",
          "Japan/Tokyo",
          "Kenya",
          "Kenya/Nairobi",
          "Lithuania/Vilnius",
          "Lithuania",
          "Malaysia/Kuala Lumpur",
          "Malaysia",
          "Malta",
          "Malta/Sliema",
          "Mexico/Mexico City",
          "Mexico/Guadalajara",
          "Mexico",
          "Netherlands",
          "Netherlands/Amsterdam",
          "Netherlands/Hoofddorp",
          "New Zealand/Wellington",
          "New Zealand",
          "New Zealand/Auckland",
          "Nigeria/Lagos ",
          "Nigeria/Lagos",
          "Nigeria",
          "Norway",
          "Norway/Oslo",
          "Pakistan/Islamabad",
          "Pakistan",
          "Pakistan/Karachi",
          "Poland",
          "Poland/Lodz",
          "Poland/Warsaw",
          "Poland/Krakow",
          "Portugal",
          "Portugal/Lisbon",
          "Russia",
          "Russia/Moscow",
          "Senegal",
          "Senegal/Dakar",
          "Singapore",
          "Singapore/Singapore",
          "South Korea/Seoul",
          "South Korea",
          "Spain",
          "Spain/Barcelona",
          "Spain/Madrid",
          "Sweden/Malmö",
          "Sweden/Stockholm",
          "Sweden/Gothenburg",
          "Sweden",
          "Switzerland",
          "Switzerland/Zurich",
          "Thailand",
          "Thailand/Bangkok",
          "UK/Salisbury",
          "UK/Oxford",
          "UK/Chester",
          "UK/Edinburgh",
          "UK/Leamington Spa",
          "UK/London",
          "UK/Manchester",
          "UK/Bristol",
          "UK",
          "USA/San Rafael",
          "USA/San Diego",
          "USA/San Mateo",
          "USA/San Luis Obispo",
          "USA/San Leandro",
          "USA/San Jose",
          "USA/San Francisco",
          "USA/Reno",
          "USA/San Bruno",
          "USA/Salt Lake City",
          "USA/Sacramento",
          "USA/Richmond",
          "USA/Redwood City",
          "USA/San Ramon",
          "USA/Raleigh",
          "USA/San Carlos",
          "USA/Santa Barbara",
          "USA/Toronto",
          "USA/Santa Fe",
          "USA",
          "USA/Portland",
          "USA/Wilmington",
          "USA/Washington DC",
          "USA/Waltham",
          "USA/Walnut Creek",
          "USA/Walnut",
          "USA/Vancouver",
          "USA/Tampa Bay",
          "USA/Tampa",
          "USA/Sunnyvale",
          "USA/Stamford",
          "USA/Spokane",
          "USA/Sheffield",
          "USA/Seattle",
          "USA/Santa Clara",
          "USA/Pleasanton",
          "USA/Denver",
          "USA/Phoenix",
          "USA/Cincinnati",
          "USA/Columbus",
          "USA/Coral Gables",
          "USA/Corvallis",
          "USA/Cupertino",
          "USA/Dallas",
          "USA/Detroit",
          "USA/Dover",
          "USA/Dublin",
          "USA/Durham",
          "USA/Forster City",
          "USA/Fort Collins",
          "USA/Foster City",
          "USA/Fremont",
          "USA/Fresno",
          "USA/Gilroy",
          "USA/Grand Rapids",
          "USA/Chicago",
          "USA/Chattanooga",
          "USA/Charleston",
          "USA/Cedar Falls",
          "USA/Agoura Hills",
          "USA/Alameda",
          "USA/Ann Arbor",
          "USA/Atlanta",
          "USA/Austin",
          "USA/Baltimore",
          "USA/Belleville",
          "USA/Bend",
          "USA/Pittsburgh",
          "USA/Berkeley",
          "USA/Birmingham",
          "USA/Boise",
          "USA/Boston",
          "USA/Boulder",
          "USA/Burlingame",
          "USA/Burlington",
          "USA/Camarillo",
          "USA/Campbell",
          "USA/Berlin",
          "USA/Hartford",
          "USA/Greenwood Village",
          "USA/Holmdel",
          "USA/Miami",
          "USA/Milpitas",
          "USA/Milwaukee",
          "USA/Minneapolis",
          "USA/Missoula",
          "USA/Mountain View",
          "USA/Nashua",
          "USA/Nashville",
          "USA/Menlo Park",
          "USA/Nebraska City",
          "USA/Newark",
          "USA/North Bethesda",
          "USA/Norwalk",
          "USA/Oakland",
          "USA/Orlando",
          "USA/Oxford",
          "USA/Palo Alto",
          "USA/Philadelphia",
          "USA/New York City",
          "USA/Hayward",
          "USA/Memphis",
          "USA/Louisville",
          "USA/Huntington Beach",
          "USA/Indianapolis",
          "USA/Kansas City",
          "USA/Madison",
          "USA/Lehi",
          "USA/Little Rock",
          "USA/Las Vegas",
          "USA/Livermore",
          "USA/Logan",
          "USA/London",
          "USA/Los Altos",
          "USA/Los Angeles",
          "USA/Los Gatos",
          "United Arabian Emirates/Dubai",
          "United Arabian Emirates",
          "United Kingdom/Bristol",
          "United Kingdom/London",
          "United Kingdom/Manchester",
          "United Kingdom",
          "Uruquay/Montevideo",
          "Uruquay"
         ],
         "labels": [
          "Buenos Aires",
          "Argentina",
          "Brisbane",
          "Melbourne",
          "Sydney",
          "Adelaide",
          "Australia",
          "Austria",
          "Linz",
          "Vienna",
          "Belgium",
          "Ghent",
          "Belo Horizonte",
          "Blumenau",
          "Curitiba",
          "Florianopolis",
          "Joinville",
          "Sao Paulo",
          "Brazil",
          "Canada",
          "Winnipeg",
          "Waterloo",
          "Vancouver",
          "Toronto",
          "Quebec",
          "Montreal",
          "London",
          "Kitchener",
          "Ferdericton",
          "Calgary",
          "Saskatoon",
          "Ottawa",
          "Cayman Islands",
          "Cayman Islands",
          "Santiago",
          "Chile",
          "China",
          "Beijing",
          "Shanghai",
          "Xi'an",
          "Bejing",
          "Nicosia",
          "Cyprus",
          "Prague",
          "Brno",
          "Czech Republic",
          "Copenhagen",
          "Denmark",
          "Tallinn",
          "Estonia",
          "Finland",
          "Helsinki",
          "Espoo",
          "Paris",
          "France",
          "Germany",
          "Frankfurt am Main",
          "Boston",
          "Berlin",
          "Hamburg",
          "Karlsruhe",
          "Kiel",
          "Munich",
          "Walldorf",
          "Hong Kong",
          "Hong Kong",
          "Ahmedabad",
          "Bengaluru",
          "Chennai",
          "Fremont",
          "Noida",
          "Mumbai",
          "Nashik",
          "India",
          "Pune",
          "New Delhi",
          "Gurugram",
          "Indonesia",
          "Jakarta",
          "Indonesia",
          "Ireland",
          "Dublin",
          "Israel",
          "Ness Ziona",
          "Tel Aviv ",
          "Haifa",
          "Jerusalem",
          "Kfar Saba",
          "Ra'anana",
          "Sderot",
          "Tel Aviv",
          "Yavne",
          "Japan",
          "Tokyo",
          "Kenya",
          "Nairobi",
          "Vilnius",
          "Lithuania",
          "Kuala Lumpur",
          "Malaysia",
          "Malta",
          "Sliema",
          "Mexico City",
          "Guadalajara",
          "Mexico",
          "Netherlands",
          "Amsterdam",
          "Hoofddorp",
          "Wellington",
          "New Zealand",
          "Auckland",
          "Lagos ",
          "Lagos",
          "Nigeria",
          "Norway",
          "Oslo",
          "Islamabad",
          "Pakistan",
          "Karachi",
          "Poland",
          "Lodz",
          "Warsaw",
          "Krakow",
          "Portugal",
          "Lisbon",
          "Russia",
          "Moscow",
          "Senegal",
          "Dakar",
          "Singapore",
          "Singapore",
          "Seoul",
          "South Korea",
          "Spain",
          "Barcelona",
          "Madrid",
          "Malmö",
          "Stockholm",
          "Gothenburg",
          "Sweden",
          "Switzerland",
          "Zurich",
          "Thailand",
          "Bangkok",
          "Salisbury",
          "Oxford",
          "Chester",
          "Edinburgh",
          "Leamington Spa",
          "London",
          "Manchester",
          "Bristol",
          "UK",
          "San Rafael",
          "San Diego",
          "San Mateo",
          "San Luis Obispo",
          "San Leandro",
          "San Jose",
          "San Francisco",
          "Reno",
          "San Bruno",
          "Salt Lake City",
          "Sacramento",
          "Richmond",
          "Redwood City",
          "San Ramon",
          "Raleigh",
          "San Carlos",
          "Santa Barbara",
          "Toronto",
          "Santa Fe",
          "USA",
          "Portland",
          "Wilmington",
          "Washington DC",
          "Waltham",
          "Walnut Creek",
          "Walnut",
          "Vancouver",
          "Tampa Bay",
          "Tampa",
          "Sunnyvale",
          "Stamford",
          "Spokane",
          "Sheffield",
          "Seattle",
          "Santa Clara",
          "Pleasanton",
          "Denver",
          "Phoenix",
          "Cincinnati",
          "Columbus",
          "Coral Gables",
          "Corvallis",
          "Cupertino",
          "Dallas",
          "Detroit",
          "Dover",
          "Dublin",
          "Durham",
          "Forster City",
          "Fort Collins",
          "Foster City",
          "Fremont",
          "Fresno",
          "Gilroy",
          "Grand Rapids",
          "Chicago",
          "Chattanooga",
          "Charleston",
          "Cedar Falls",
          "Agoura Hills",
          "Alameda",
          "Ann Arbor",
          "Atlanta",
          "Austin",
          "Baltimore",
          "Belleville",
          "Bend",
          "Pittsburgh",
          "Berkeley",
          "Birmingham",
          "Boise",
          "Boston",
          "Boulder",
          "Burlingame",
          "Burlington",
          "Camarillo",
          "Campbell",
          "Berlin",
          "Hartford",
          "Greenwood Village",
          "Holmdel",
          "Miami",
          "Milpitas",
          "Milwaukee",
          "Minneapolis",
          "Missoula",
          "Mountain View",
          "Nashua",
          "Nashville",
          "Menlo Park",
          "Nebraska City",
          "Newark",
          "North Bethesda",
          "Norwalk",
          "Oakland",
          "Orlando",
          "Oxford",
          "Palo Alto",
          "Philadelphia",
          "New York City",
          "Hayward",
          "Memphis",
          "Louisville",
          "Huntington Beach",
          "Indianapolis",
          "Kansas City",
          "Madison",
          "Lehi",
          "Little Rock",
          "Las Vegas",
          "Livermore",
          "Logan",
          "London",
          "Los Altos",
          "Los Angeles",
          "Los Gatos",
          "Dubai",
          "United Arabian Emirates",
          "Bristol",
          "London",
          "Manchester",
          "United Kingdom",
          "Montevideo",
          "Uruquay"
         ],
         "marker": {
          "colors": [
           "#636efa",
           "#636efa",
           "#EF553B",
           "#EF553B",
           "#EF553B",
           "#EF553B",
           "#EF553B",
           "#00cc96",
           "#00cc96",
           "#00cc96",
           "#ab63fa",
           "#ab63fa",
           "#FFA15A",
           "#FFA15A",
           "#FFA15A",
           "#FFA15A",
           "#FFA15A",
           "#FFA15A",
           "#FFA15A",
           "#19d3f3",
           "#19d3f3",
           "#19d3f3",
           "#19d3f3",
           "#19d3f3",
           "#19d3f3",
           "#19d3f3",
           "#19d3f3",
           "#19d3f3",
           "#19d3f3",
           "#19d3f3",
           "#19d3f3",
           "#19d3f3",
           "#FF6692",
           "#FF6692",
           "#B6E880",
           "#B6E880",
           "#FF97FF",
           "#FF97FF",
           "#FF97FF",
           "#FF97FF",
           "#FF97FF",
           "#FECB52",
           "#FECB52",
           "#636efa",
           "#636efa",
           "#636efa",
           "#EF553B",
           "#EF553B",
           "#00cc96",
           "#00cc96",
           "#ab63fa",
           "#ab63fa",
           "#ab63fa",
           "#FFA15A",
           "#FFA15A",
           "#19d3f3",
           "#19d3f3",
           "#19d3f3",
           "#19d3f3",
           "#19d3f3",
           "#19d3f3",
           "#19d3f3",
           "#19d3f3",
           "#19d3f3",
           "#FF6692",
           "#FF6692",
           "#B6E880",
           "#B6E880",
           "#B6E880",
           "#B6E880",
           "#B6E880",
           "#B6E880",
           "#B6E880",
           "#B6E880",
           "#B6E880",
           "#B6E880",
           "#B6E880",
           "#FF97FF",
           "#FF97FF",
           "#FF97FF",
           "#FECB52",
           "#FECB52",
           "#636efa",
           "#636efa",
           "#636efa",
           "#636efa",
           "#636efa",
           "#636efa",
           "#636efa",
           "#636efa",
           "#636efa",
           "#636efa",
           "#EF553B",
           "#EF553B",
           "#00cc96",
           "#00cc96",
           "#ab63fa",
           "#ab63fa",
           "#FFA15A",
           "#FFA15A",
           "#19d3f3",
           "#19d3f3",
           "#FF6692",
           "#FF6692",
           "#FF6692",
           "#B6E880",
           "#B6E880",
           "#B6E880",
           "#FF97FF",
           "#FF97FF",
           "#FF97FF",
           "#FECB52",
           "#FECB52",
           "#FECB52",
           "#636efa",
           "#636efa",
           "#EF553B",
           "#EF553B",
           "#EF553B",
           "#00cc96",
           "#00cc96",
           "#00cc96",
           "#00cc96",
           "#ab63fa",
           "#ab63fa",
           "#FFA15A",
           "#FFA15A",
           "#19d3f3",
           "#19d3f3",
           "#FF6692",
           "#FF6692",
           "#B6E880",
           "#B6E880",
           "#FF97FF",
           "#FF97FF",
           "#FF97FF",
           "#FECB52",
           "#FECB52",
           "#FECB52",
           "#FECB52",
           "#636efa",
           "#636efa",
           "#EF553B",
           "#EF553B",
           "#00cc96",
           "#00cc96",
           "#00cc96",
           "#00cc96",
           "#00cc96",
           "#00cc96",
           "#00cc96",
           "#00cc96",
           "#00cc96",
           "#ab63fa",
           "#ab63fa",
           "#ab63fa",
           "#ab63fa",
           "#ab63fa",
           "#ab63fa",
           "#ab63fa",
           "#ab63fa",
           "#ab63fa",
           "#ab63fa",
           "#ab63fa",
           "#ab63fa",
           "#ab63fa",
           "#ab63fa",
           "#ab63fa",
           "#ab63fa",
           "#ab63fa",
           "#ab63fa",
           "#ab63fa",
           "#ab63fa",
           "#ab63fa",
           "#ab63fa",
           "#ab63fa",
           "#ab63fa",
           "#ab63fa",
           "#ab63fa",
           "#ab63fa",
           "#ab63fa",
           "#ab63fa",
           "#ab63fa",
           "#ab63fa",
           "#ab63fa",
           "#ab63fa",
           "#ab63fa",
           "#ab63fa",
           "#ab63fa",
           "#ab63fa",
           "#ab63fa",
           "#ab63fa",
           "#ab63fa",
           "#ab63fa",
           "#ab63fa",
           "#ab63fa",
           "#ab63fa",
           "#ab63fa",
           "#ab63fa",
           "#ab63fa",
           "#ab63fa",
           "#ab63fa",
           "#ab63fa",
           "#ab63fa",
           "#ab63fa",
           "#ab63fa",
           "#ab63fa",
           "#ab63fa",
           "#ab63fa",
           "#ab63fa",
           "#ab63fa",
           "#ab63fa",
           "#ab63fa",
           "#ab63fa",
           "#ab63fa",
           "#ab63fa",
           "#ab63fa",
           "#ab63fa",
           "#ab63fa",
           "#ab63fa",
           "#ab63fa",
           "#ab63fa",
           "#ab63fa",
           "#ab63fa",
           "#ab63fa",
           "#ab63fa",
           "#ab63fa",
           "#ab63fa",
           "#ab63fa",
           "#ab63fa",
           "#ab63fa",
           "#ab63fa",
           "#ab63fa",
           "#ab63fa",
           "#ab63fa",
           "#ab63fa",
           "#ab63fa",
           "#ab63fa",
           "#ab63fa",
           "#ab63fa",
           "#ab63fa",
           "#ab63fa",
           "#ab63fa",
           "#ab63fa",
           "#ab63fa",
           "#ab63fa",
           "#ab63fa",
           "#ab63fa",
           "#ab63fa",
           "#ab63fa",
           "#ab63fa",
           "#ab63fa",
           "#ab63fa",
           "#ab63fa",
           "#ab63fa",
           "#ab63fa",
           "#ab63fa",
           "#ab63fa",
           "#ab63fa",
           "#ab63fa",
           "#ab63fa",
           "#ab63fa",
           "#ab63fa",
           "#ab63fa",
           "#ab63fa",
           "#ab63fa",
           "#ab63fa",
           "#ab63fa",
           "#ab63fa",
           "#FFA15A",
           "#FFA15A",
           "#19d3f3",
           "#19d3f3",
           "#19d3f3",
           "#19d3f3",
           "#FF6692",
           "#FF6692"
          ]
         },
         "name": "",
         "parents": [
          "Argentina",
          "",
          "Australia",
          "Australia",
          "Australia",
          "Australia",
          "",
          "",
          "Austria",
          "Austria",
          "",
          "Belgium",
          "Brazil",
          "Brazil",
          "Brazil",
          "Brazil",
          "Brazil",
          "Brazil",
          "",
          "",
          "Canada",
          "Canada",
          "Canada",
          "Canada",
          "Canada",
          "Canada",
          "Canada",
          "Canada",
          "Canada",
          "Canada",
          "Canada",
          "Canada",
          "Cayman Islands",
          "",
          "Chile",
          "",
          "",
          "China",
          "China",
          "China",
          "China",
          "Cyprus",
          "",
          "Czech Republic",
          "Czech Republic",
          "",
          "Denmark",
          "",
          "Estonia",
          "",
          "",
          "Finland",
          "Finland",
          "France",
          "",
          "",
          "Germany",
          "Germany",
          "Germany",
          "Germany",
          "Germany",
          "Germany",
          "Germany",
          "Germany",
          "Hong Kong",
          "",
          "India",
          "India",
          "India",
          "India",
          "India",
          "India",
          "India",
          "",
          "India",
          "India",
          "India",
          "",
          "Indonesia",
          "Indonesia",
          "",
          "Ireland",
          "",
          "Israel",
          "Israel",
          "Israel",
          "Israel",
          "Israel",
          "Israel",
          "Israel",
          "Israel",
          "Israel",
          "",
          "Japan",
          "",
          "Kenya",
          "Lithuania",
          "",
          "Malaysia",
          "",
          "",
          "Malta",
          "Mexico",
          "Mexico",
          "",
          "",
          "Netherlands",
          "Netherlands",
          "New Zealand",
          "",
          "New Zealand",
          "Nigeria",
          "Nigeria",
          "",
          "",
          "Norway",
          "Pakistan",
          "",
          "Pakistan",
          "",
          "Poland",
          "Poland",
          "Poland",
          "",
          "Portugal",
          "",
          "Russia",
          "",
          "Senegal",
          "",
          "Singapore",
          "South Korea",
          "",
          "",
          "Spain",
          "Spain",
          "Sweden",
          "Sweden",
          "Sweden",
          "",
          "",
          "Switzerland",
          "",
          "Thailand",
          "UK",
          "UK",
          "UK",
          "UK",
          "UK",
          "UK",
          "UK",
          "UK",
          "",
          "USA",
          "USA",
          "USA",
          "USA",
          "USA",
          "USA",
          "USA",
          "USA",
          "USA",
          "USA",
          "USA",
          "USA",
          "USA",
          "USA",
          "USA",
          "USA",
          "USA",
          "USA",
          "USA",
          "",
          "USA",
          "USA",
          "USA",
          "USA",
          "USA",
          "USA",
          "USA",
          "USA",
          "USA",
          "USA",
          "USA",
          "USA",
          "USA",
          "USA",
          "USA",
          "USA",
          "USA",
          "USA",
          "USA",
          "USA",
          "USA",
          "USA",
          "USA",
          "USA",
          "USA",
          "USA",
          "USA",
          "USA",
          "USA",
          "USA",
          "USA",
          "USA",
          "USA",
          "USA",
          "USA",
          "USA",
          "USA",
          "USA",
          "USA",
          "USA",
          "USA",
          "USA",
          "USA",
          "USA",
          "USA",
          "USA",
          "USA",
          "USA",
          "USA",
          "USA",
          "USA",
          "USA",
          "USA",
          "USA",
          "USA",
          "USA",
          "USA",
          "USA",
          "USA",
          "USA",
          "USA",
          "USA",
          "USA",
          "USA",
          "USA",
          "USA",
          "USA",
          "USA",
          "USA",
          "USA",
          "USA",
          "USA",
          "USA",
          "USA",
          "USA",
          "USA",
          "USA",
          "USA",
          "USA",
          "USA",
          "USA",
          "USA",
          "USA",
          "USA",
          "USA",
          "USA",
          "USA",
          "USA",
          "USA",
          "USA",
          "USA",
          "USA",
          "USA",
          "USA",
          "USA",
          "USA",
          "United Arabian Emirates",
          "",
          "United Kingdom",
          "United Kingdom",
          "United Kingdom",
          "",
          "Uruquay",
          ""
         ],
         "textinfo": "label+percent parent",
         "type": "sunburst",
         "values": {
          "bdata": "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",
          "dtype": "f8"
         }
        }
       ],
       "layout": {
        "font": {
         "size": 10
        },
        "height": 800,
        "legend": {
         "tracegroupgap": 0
        },
        "margin": {
         "b": 50,
         "l": 10,
         "r": 10,
         "t": 30
        },
        "template": {
         "data": {
          "bar": [
           {
            "error_x": {
             "color": "#2a3f5f"
            },
            "error_y": {
             "color": "#2a3f5f"
            },
            "marker": {
             "line": {
              "color": "#E5ECF6",
              "width": 0.5
             },
             "pattern": {
              "fillmode": "overlay",
              "size": 10,
              "solidity": 0.2
             }
            },
            "type": "bar"
           }
          ],
          "barpolar": [
           {
            "marker": {
             "line": {
              "color": "#E5ECF6",
              "width": 0.5
             },
             "pattern": {
              "fillmode": "overlay",
              "size": 10,
              "solidity": 0.2
             }
            },
            "type": "barpolar"
           }
          ],
          "carpet": [
           {
            "aaxis": {
             "endlinecolor": "#2a3f5f",
             "gridcolor": "white",
             "linecolor": "white",
             "minorgridcolor": "white",
             "startlinecolor": "#2a3f5f"
            },
            "baxis": {
             "endlinecolor": "#2a3f5f",
             "gridcolor": "white",
             "linecolor": "white",
             "minorgridcolor": "white",
             "startlinecolor": "#2a3f5f"
            },
            "type": "carpet"
           }
          ],
          "choropleth": [
           {
            "colorbar": {
             "outlinewidth": 0,
             "ticks": ""
            },
            "type": "choropleth"
           }
          ],
          "contour": [
           {
            "colorbar": {
             "outlinewidth": 0,
             "ticks": ""
            },
            "colorscale": [
             [
              0,
              "#0d0887"
             ],
             [
              0.1111111111111111,
              "#46039f"
             ],
             [
              0.2222222222222222,
              "#7201a8"
             ],
             [
              0.3333333333333333,
              "#9c179e"
             ],
             [
              0.4444444444444444,
              "#bd3786"
             ],
             [
              0.5555555555555556,
              "#d8576b"
             ],
             [
              0.6666666666666666,
              "#ed7953"
             ],
             [
              0.7777777777777778,
              "#fb9f3a"
             ],
             [
              0.8888888888888888,
              "#fdca26"
             ],
             [
              1,
              "#f0f921"
             ]
            ],
            "type": "contour"
           }
          ],
          "contourcarpet": [
           {
            "colorbar": {
             "outlinewidth": 0,
             "ticks": ""
            },
            "type": "contourcarpet"
           }
          ],
          "heatmap": [
           {
            "colorbar": {
             "outlinewidth": 0,
             "ticks": ""
            },
            "colorscale": [
             [
              0,
              "#0d0887"
             ],
             [
              0.1111111111111111,
              "#46039f"
             ],
             [
              0.2222222222222222,
              "#7201a8"
             ],
             [
              0.3333333333333333,
              "#9c179e"
             ],
             [
              0.4444444444444444,
              "#bd3786"
             ],
             [
              0.5555555555555556,
              "#d8576b"
             ],
             [
              0.6666666666666666,
              "#ed7953"
             ],
             [
              0.7777777777777778,
              "#fb9f3a"
             ],
             [
              0.8888888888888888,
              "#fdca26"
             ],
             [
              1,
              "#f0f921"
             ]
            ],
            "type": "heatmap"
           }
          ],
          "histogram": [
           {
            "marker": {
             "pattern": {
              "fillmode": "overlay",
              "size": 10,
              "solidity": 0.2
             }
            },
            "type": "histogram"
           }
          ],
          "histogram2d": [
           {
            "colorbar": {
             "outlinewidth": 0,
             "ticks": ""
            },
            "colorscale": [
             [
              0,
              "#0d0887"
             ],
             [
              0.1111111111111111,
              "#46039f"
             ],
             [
              0.2222222222222222,
              "#7201a8"
             ],
             [
              0.3333333333333333,
              "#9c179e"
             ],
             [
              0.4444444444444444,
              "#bd3786"
             ],
             [
              0.5555555555555556,
              "#d8576b"
             ],
             [
              0.6666666666666666,
              "#ed7953"
             ],
             [
              0.7777777777777778,
              "#fb9f3a"
             ],
             [
              0.8888888888888888,
              "#fdca26"
             ],
             [
              1,
              "#f0f921"
             ]
            ],
            "type": "histogram2d"
           }
          ],
          "histogram2dcontour": [
           {
            "colorbar": {
             "outlinewidth": 0,
             "ticks": ""
            },
            "colorscale": [
             [
              0,
              "#0d0887"
             ],
             [
              0.1111111111111111,
              "#46039f"
             ],
             [
              0.2222222222222222,
              "#7201a8"
             ],
             [
              0.3333333333333333,
              "#9c179e"
             ],
             [
              0.4444444444444444,
              "#bd3786"
             ],
             [
              0.5555555555555556,
              "#d8576b"
             ],
             [
              0.6666666666666666,
              "#ed7953"
             ],
             [
              0.7777777777777778,
              "#fb9f3a"
             ],
             [
              0.8888888888888888,
              "#fdca26"
             ],
             [
              1,
              "#f0f921"
             ]
            ],
            "type": "histogram2dcontour"
           }
          ],
          "mesh3d": [
           {
            "colorbar": {
             "outlinewidth": 0,
             "ticks": ""
            },
            "type": "mesh3d"
           }
          ],
          "parcoords": [
           {
            "line": {
             "colorbar": {
              "outlinewidth": 0,
              "ticks": ""
             }
            },
            "type": "parcoords"
           }
          ],
          "pie": [
           {
            "automargin": true,
            "type": "pie"
           }
          ],
          "scatter": [
           {
            "fillpattern": {
             "fillmode": "overlay",
             "size": 10,
             "solidity": 0.2
            },
            "type": "scatter"
           }
          ],
          "scatter3d": [
           {
            "line": {
             "colorbar": {
              "outlinewidth": 0,
              "ticks": ""
             }
            },
            "marker": {
             "colorbar": {
              "outlinewidth": 0,
              "ticks": ""
             }
            },
            "type": "scatter3d"
           }
          ],
          "scattercarpet": [
           {
            "marker": {
             "colorbar": {
              "outlinewidth": 0,
              "ticks": ""
             }
            },
            "type": "scattercarpet"
           }
          ],
          "scattergeo": [
           {
            "marker": {
             "colorbar": {
              "outlinewidth": 0,
              "ticks": ""
             }
            },
            "type": "scattergeo"
           }
          ],
          "scattergl": [
           {
            "marker": {
             "colorbar": {
              "outlinewidth": 0,
              "ticks": ""
             }
            },
            "type": "scattergl"
           }
          ],
          "scattermap": [
           {
            "marker": {
             "colorbar": {
              "outlinewidth": 0,
              "ticks": ""
             }
            },
            "type": "scattermap"
           }
          ],
          "scattermapbox": [
           {
            "marker": {
             "colorbar": {
              "outlinewidth": 0,
              "ticks": ""
             }
            },
            "type": "scattermapbox"
           }
          ],
          "scatterpolar": [
           {
            "marker": {
             "colorbar": {
              "outlinewidth": 0,
              "ticks": ""
             }
            },
            "type": "scatterpolar"
           }
          ],
          "scatterpolargl": [
           {
            "marker": {
             "colorbar": {
              "outlinewidth": 0,
              "ticks": ""
             }
            },
            "type": "scatterpolargl"
           }
          ],
          "scatterternary": [
           {
            "marker": {
             "colorbar": {
              "outlinewidth": 0,
              "ticks": ""
             }
            },
            "type": "scatterternary"
           }
          ],
          "surface": [
           {
            "colorbar": {
             "outlinewidth": 0,
             "ticks": ""
            },
            "colorscale": [
             [
              0,
              "#0d0887"
             ],
             [
              0.1111111111111111,
              "#46039f"
             ],
             [
              0.2222222222222222,
              "#7201a8"
             ],
             [
              0.3333333333333333,
              "#9c179e"
             ],
             [
              0.4444444444444444,
              "#bd3786"
             ],
             [
              0.5555555555555556,
              "#d8576b"
             ],
             [
              0.6666666666666666,
              "#ed7953"
             ],
             [
              0.7777777777777778,
              "#fb9f3a"
             ],
             [
              0.8888888888888888,
              "#fdca26"
             ],
             [
              1,
              "#f0f921"
             ]
            ],
            "type": "surface"
           }
          ],
          "table": [
           {
            "cells": {
             "fill": {
              "color": "#EBF0F8"
             },
             "line": {
              "color": "white"
             }
            },
            "header": {
             "fill": {
              "color": "#C8D4E3"
             },
             "line": {
              "color": "white"
             }
            },
            "type": "table"
           }
          ]
         },
         "layout": {
          "annotationdefaults": {
           "arrowcolor": "#2a3f5f",
           "arrowhead": 0,
           "arrowwidth": 1
          },
          "autotypenumbers": "strict",
          "coloraxis": {
           "colorbar": {
            "outlinewidth": 0,
            "ticks": ""
           }
          },
          "colorscale": {
           "diverging": [
            [
             0,
             "#8e0152"
            ],
            [
             0.1,
             "#c51b7d"
            ],
            [
             0.2,
             "#de77ae"
            ],
            [
             0.3,
             "#f1b6da"
            ],
            [
             0.4,
             "#fde0ef"
            ],
            [
             0.5,
             "#f7f7f7"
            ],
            [
             0.6,
             "#e6f5d0"
            ],
            [
             0.7,
             "#b8e186"
            ],
            [
             0.8,
             "#7fbc41"
            ],
            [
             0.9,
             "#4d9221"
            ],
            [
             1,
             "#276419"
            ]
           ],
           "sequential": [
            [
             0,
             "#0d0887"
            ],
            [
             0.1111111111111111,
             "#46039f"
            ],
            [
             0.2222222222222222,
             "#7201a8"
            ],
            [
             0.3333333333333333,
             "#9c179e"
            ],
            [
             0.4444444444444444,
             "#bd3786"
            ],
            [
             0.5555555555555556,
             "#d8576b"
            ],
            [
             0.6666666666666666,
             "#ed7953"
            ],
            [
             0.7777777777777778,
             "#fb9f3a"
            ],
            [
             0.8888888888888888,
             "#fdca26"
            ],
            [
             1,
             "#f0f921"
            ]
           ],
           "sequentialminus": [
            [
             0,
             "#0d0887"
            ],
            [
             0.1111111111111111,
             "#46039f"
            ],
            [
             0.2222222222222222,
             "#7201a8"
            ],
            [
             0.3333333333333333,
             "#9c179e"
            ],
            [
             0.4444444444444444,
             "#bd3786"
            ],
            [
             0.5555555555555556,
             "#d8576b"
            ],
            [
             0.6666666666666666,
             "#ed7953"
            ],
            [
             0.7777777777777778,
             "#fb9f3a"
            ],
            [
             0.8888888888888888,
             "#fdca26"
            ],
            [
             1,
             "#f0f921"
            ]
           ]
          },
          "colorway": [
           "#636efa",
           "#EF553B",
           "#00cc96",
           "#ab63fa",
           "#FFA15A",
           "#19d3f3",
           "#FF6692",
           "#B6E880",
           "#FF97FF",
           "#FECB52"
          ],
          "font": {
           "color": "#2a3f5f"
          },
          "geo": {
           "bgcolor": "white",
           "lakecolor": "white",
           "landcolor": "#E5ECF6",
           "showlakes": true,
           "showland": true,
           "subunitcolor": "white"
          },
          "hoverlabel": {
           "align": "left"
          },
          "hovermode": "closest",
          "mapbox": {
           "style": "light"
          },
          "paper_bgcolor": "white",
          "plot_bgcolor": "#E5ECF6",
          "polar": {
           "angularaxis": {
            "gridcolor": "white",
            "linecolor": "white",
            "ticks": ""
           },
           "bgcolor": "#E5ECF6",
           "radialaxis": {
            "gridcolor": "white",
            "linecolor": "white",
            "ticks": ""
           }
          },
          "scene": {
           "xaxis": {
            "backgroundcolor": "#E5ECF6",
            "gridcolor": "white",
            "gridwidth": 2,
            "linecolor": "white",
            "showbackground": true,
            "ticks": "",
            "zerolinecolor": "white"
           },
           "yaxis": {
            "backgroundcolor": "#E5ECF6",
            "gridcolor": "white",
            "gridwidth": 2,
            "linecolor": "white",
            "showbackground": true,
            "ticks": "",
            "zerolinecolor": "white"
           },
           "zaxis": {
            "backgroundcolor": "#E5ECF6",
            "gridcolor": "white",
            "gridwidth": 2,
            "linecolor": "white",
            "showbackground": true,
            "ticks": "",
            "zerolinecolor": "white"
           }
          },
          "shapedefaults": {
           "line": {
            "color": "#2a3f5f"
           }
          },
          "ternary": {
           "aaxis": {
            "gridcolor": "white",
            "linecolor": "white",
            "ticks": ""
           },
           "baxis": {
            "gridcolor": "white",
            "linecolor": "white",
            "ticks": ""
           },
           "bgcolor": "#E5ECF6",
           "caxis": {
            "gridcolor": "white",
            "linecolor": "white",
            "ticks": ""
           }
          },
          "title": {
           "x": 0.05
          },
          "xaxis": {
           "automargin": true,
           "gridcolor": "white",
           "linecolor": "white",
           "ticks": "",
           "title": {
            "standoff": 15
           },
           "zerolinecolor": "white",
           "zerolinewidth": 2
          },
          "yaxis": {
           "automargin": true,
           "gridcolor": "white",
           "linecolor": "white",
           "ticks": "",
           "title": {
            "standoff": 15
           },
           "zerolinecolor": "white",
           "zerolinewidth": 2
          }
         }
        },
        "title": {
         "text": "<span style='font-size:18px;'><b>Locations of tech layoffs by location HQ and countries (cities in total number)</b></span>"
        },
        "width": 1280
       }
      }
     },
     "metadata": {},
     "output_type": "display_data"
    }
   ],
   "source": [
    "import plotly.express as px\n",
    "\n",
    "fig = px.sunburst(gr_cat, width=1280, height=800,\n",
    "                  path=[\"Country\",\"Location_HQ\"], values=\"size\",\n",
    "                  color=\"Country\",\n",
    "                  title=\"<span style='font-size:18px;'><b>Locations of tech layoffs by location HQ and countries (cities in total number)</b></span>\"\n",
    "                  )\n",
    "fig.update_layout(font_size=10, margin=dict(l=10, r=10, t=30, b=50))\n",
    "fig.update_traces(textinfo=\"label+percent parent\")\n",
    "fig.show()\n",
    "# fig.show(renderer=\"browser\")  # Use this line to avoid mime-type rendering errors\n",
    "# fig.show(renderer=\"svg\")      # static, inline (if supported)\n",
    "# fig.show(renderer=\"png\")      # static, inline (if supported)\n",
    "# fig.show(renderer=\"iframe\")   # if you're exporting for web\n"
   ]
  },
  {
   "cell_type": "markdown",
   "metadata": {},
   "source": [
    "65% of the entries in the dataset were reports of layoffs in the USA. And of all the USA reports in the dataset are 26% percents of layoffs in San Francisco and 17 % in New York City. "
   ]
  },
  {
   "cell_type": "markdown",
   "metadata": {},
   "source": [
    "**Treemap charts**\n",
    "\n",
    "This code imports the pandas and plotly.express libraries and shows the same data as above and the second treemap filters the DataFrame gr_cat to include only rows where the country is the USA, storing the result in usa_df. It then creates a treemap from this filtered DataFrame, setting the width to 1280 pixels and the height to 800 pixels. The treemap displays the hierarchy based on Country and Location_HQ, with each segment sized according to the size column and colored by Location_HQ. The trace information is updated to show both the label and the percentage of the parent segment. Finally, the treemap is displayed using fig.show().\n",
    "\n"
   ]
  },
  {
   "cell_type": "code",
   "execution_count": 7,
   "metadata": {
    "execution": {
     "iopub.execute_input": "2024-07-08T17:31:44.480947Z",
     "iopub.status.busy": "2024-07-08T17:31:44.480467Z",
     "iopub.status.idle": "2024-07-08T17:31:44.608576Z",
     "shell.execute_reply": "2024-07-08T17:31:44.607383Z",
     "shell.execute_reply.started": "2024-07-08T17:31:44.480912Z"
    },
    "trusted": true
   },
   "outputs": [
    {
     "data": {
      "application/vnd.plotly.v1+json": {
       "config": {
        "plotlyServerURL": "https://plot.ly"
       },
       "data": [
        {
         "branchvalues": "total",
         "customdata": [
          [
           "Argentina"
          ],
          [
           "Argentina"
          ],
          [
           "Australia"
          ],
          [
           "Australia"
          ],
          [
           "Australia"
          ],
          [
           "Australia"
          ],
          [
           "Australia"
          ],
          [
           "Austria"
          ],
          [
           "Austria"
          ],
          [
           "Austria"
          ],
          [
           "Belgium"
          ],
          [
           "Belgium"
          ],
          [
           "Brazil"
          ],
          [
           "Brazil"
          ],
          [
           "Brazil"
          ],
          [
           "Brazil"
          ],
          [
           "Brazil"
          ],
          [
           "Brazil"
          ],
          [
           "Brazil"
          ],
          [
           "Canada"
          ],
          [
           "Canada"
          ],
          [
           "Canada"
          ],
          [
           "Canada"
          ],
          [
           "Canada"
          ],
          [
           "Canada"
          ],
          [
           "Canada"
          ],
          [
           "Canada"
          ],
          [
           "Canada"
          ],
          [
           "Canada"
          ],
          [
           "Canada"
          ],
          [
           "Canada"
          ],
          [
           "Canada"
          ],
          [
           "Cayman Islands"
          ],
          [
           "Cayman Islands"
          ],
          [
           "Chile"
          ],
          [
           "Chile"
          ],
          [
           "China"
          ],
          [
           "China"
          ],
          [
           "China"
          ],
          [
           "China"
          ],
          [
           "China"
          ],
          [
           "Cyprus"
          ],
          [
           "Cyprus"
          ],
          [
           "Czech Republic"
          ],
          [
           "Czech Republic"
          ],
          [
           "Czech Republic"
          ],
          [
           "Denmark"
          ],
          [
           "Denmark"
          ],
          [
           "Estonia"
          ],
          [
           "Estonia"
          ],
          [
           "Finland"
          ],
          [
           "Finland"
          ],
          [
           "Finland"
          ],
          [
           "France"
          ],
          [
           "France"
          ],
          [
           "Germany"
          ],
          [
           "Germany"
          ],
          [
           "Germany"
          ],
          [
           "Germany"
          ],
          [
           "Germany"
          ],
          [
           "Germany"
          ],
          [
           "Germany"
          ],
          [
           "Germany"
          ],
          [
           "Germany"
          ],
          [
           "Hong Kong"
          ],
          [
           "Hong Kong"
          ],
          [
           "India"
          ],
          [
           "India"
          ],
          [
           "India"
          ],
          [
           "India"
          ],
          [
           "India"
          ],
          [
           "India"
          ],
          [
           "India"
          ],
          [
           "India"
          ],
          [
           "India"
          ],
          [
           "India"
          ],
          [
           "India"
          ],
          [
           "Indonesia"
          ],
          [
           "Indonesia"
          ],
          [
           "Indonesia"
          ],
          [
           "Ireland"
          ],
          [
           "Ireland"
          ],
          [
           "Israel"
          ],
          [
           "Israel"
          ],
          [
           "Israel"
          ],
          [
           "Israel"
          ],
          [
           "Israel"
          ],
          [
           "Israel"
          ],
          [
           "Israel"
          ],
          [
           "Israel"
          ],
          [
           "Israel"
          ],
          [
           "Israel"
          ],
          [
           "Japan"
          ],
          [
           "Japan"
          ],
          [
           "Kenya"
          ],
          [
           "Kenya"
          ],
          [
           "Lithuania"
          ],
          [
           "Lithuania"
          ],
          [
           "Malaysia"
          ],
          [
           "Malaysia"
          ],
          [
           "Malta"
          ],
          [
           "Malta"
          ],
          [
           "Mexico"
          ],
          [
           "Mexico"
          ],
          [
           "Mexico"
          ],
          [
           "Netherlands"
          ],
          [
           "Netherlands"
          ],
          [
           "Netherlands"
          ],
          [
           "New Zealand"
          ],
          [
           "New Zealand"
          ],
          [
           "New Zealand"
          ],
          [
           "Nigeria"
          ],
          [
           "Nigeria"
          ],
          [
           "Nigeria"
          ],
          [
           "Norway"
          ],
          [
           "Norway"
          ],
          [
           "Pakistan"
          ],
          [
           "Pakistan"
          ],
          [
           "Pakistan"
          ],
          [
           "Poland"
          ],
          [
           "Poland"
          ],
          [
           "Poland"
          ],
          [
           "Poland"
          ],
          [
           "Portugal"
          ],
          [
           "Portugal"
          ],
          [
           "Russia"
          ],
          [
           "Russia"
          ],
          [
           "Senegal"
          ],
          [
           "Senegal"
          ],
          [
           "Singapore"
          ],
          [
           "Singapore"
          ],
          [
           "South Korea"
          ],
          [
           "South Korea"
          ],
          [
           "Spain"
          ],
          [
           "Spain"
          ],
          [
           "Spain"
          ],
          [
           "Sweden"
          ],
          [
           "Sweden"
          ],
          [
           "Sweden"
          ],
          [
           "Sweden"
          ],
          [
           "Switzerland"
          ],
          [
           "Switzerland"
          ],
          [
           "Thailand"
          ],
          [
           "Thailand"
          ],
          [
           "UK"
          ],
          [
           "UK"
          ],
          [
           "UK"
          ],
          [
           "UK"
          ],
          [
           "UK"
          ],
          [
           "UK"
          ],
          [
           "UK"
          ],
          [
           "UK"
          ],
          [
           "UK"
          ],
          [
           "USA"
          ],
          [
           "USA"
          ],
          [
           "USA"
          ],
          [
           "USA"
          ],
          [
           "USA"
          ],
          [
           "USA"
          ],
          [
           "USA"
          ],
          [
           "USA"
          ],
          [
           "USA"
          ],
          [
           "USA"
          ],
          [
           "USA"
          ],
          [
           "USA"
          ],
          [
           "USA"
          ],
          [
           "USA"
          ],
          [
           "USA"
          ],
          [
           "USA"
          ],
          [
           "USA"
          ],
          [
           "USA"
          ],
          [
           "USA"
          ],
          [
           "USA"
          ],
          [
           "USA"
          ],
          [
           "USA"
          ],
          [
           "USA"
          ],
          [
           "USA"
          ],
          [
           "USA"
          ],
          [
           "USA"
          ],
          [
           "USA"
          ],
          [
           "USA"
          ],
          [
           "USA"
          ],
          [
           "USA"
          ],
          [
           "USA"
          ],
          [
           "USA"
          ],
          [
           "USA"
          ],
          [
           "USA"
          ],
          [
           "USA"
          ],
          [
           "USA"
          ],
          [
           "USA"
          ],
          [
           "USA"
          ],
          [
           "USA"
          ],
          [
           "USA"
          ],
          [
           "USA"
          ],
          [
           "USA"
          ],
          [
           "USA"
          ],
          [
           "USA"
          ],
          [
           "USA"
          ],
          [
           "USA"
          ],
          [
           "USA"
          ],
          [
           "USA"
          ],
          [
           "USA"
          ],
          [
           "USA"
          ],
          [
           "USA"
          ],
          [
           "USA"
          ],
          [
           "USA"
          ],
          [
           "USA"
          ],
          [
           "USA"
          ],
          [
           "USA"
          ],
          [
           "USA"
          ],
          [
           "USA"
          ],
          [
           "USA"
          ],
          [
           "USA"
          ],
          [
           "USA"
          ],
          [
           "USA"
          ],
          [
           "USA"
          ],
          [
           "USA"
          ],
          [
           "USA"
          ],
          [
           "USA"
          ],
          [
           "USA"
          ],
          [
           "USA"
          ],
          [
           "USA"
          ],
          [
           "USA"
          ],
          [
           "USA"
          ],
          [
           "USA"
          ],
          [
           "USA"
          ],
          [
           "USA"
          ],
          [
           "USA"
          ],
          [
           "USA"
          ],
          [
           "USA"
          ],
          [
           "USA"
          ],
          [
           "USA"
          ],
          [
           "USA"
          ],
          [
           "USA"
          ],
          [
           "USA"
          ],
          [
           "USA"
          ],
          [
           "USA"
          ],
          [
           "USA"
          ],
          [
           "USA"
          ],
          [
           "USA"
          ],
          [
           "USA"
          ],
          [
           "USA"
          ],
          [
           "USA"
          ],
          [
           "USA"
          ],
          [
           "USA"
          ],
          [
           "USA"
          ],
          [
           "USA"
          ],
          [
           "USA"
          ],
          [
           "USA"
          ],
          [
           "USA"
          ],
          [
           "USA"
          ],
          [
           "USA"
          ],
          [
           "USA"
          ],
          [
           "USA"
          ],
          [
           "USA"
          ],
          [
           "USA"
          ],
          [
           "USA"
          ],
          [
           "USA"
          ],
          [
           "USA"
          ],
          [
           "USA"
          ],
          [
           "USA"
          ],
          [
           "USA"
          ],
          [
           "USA"
          ],
          [
           "USA"
          ],
          [
           "USA"
          ],
          [
           "USA"
          ],
          [
           "USA"
          ],
          [
           "USA"
          ],
          [
           "USA"
          ],
          [
           "United Arabian Emirates"
          ],
          [
           "United Arabian Emirates"
          ],
          [
           "United Kingdom"
          ],
          [
           "United Kingdom"
          ],
          [
           "United Kingdom"
          ],
          [
           "United Kingdom"
          ],
          [
           "Uruquay"
          ],
          [
           "Uruquay"
          ]
         ],
         "domain": {
          "x": [
           0,
           1
          ],
          "y": [
           0,
           1
          ]
         },
         "hovertemplate": "labels=%{label}<br>size=%{value}<br>parent=%{parent}<br>id=%{id}<br>Country=%{customdata[0]}<extra></extra>",
         "ids": [
          "Argentina/Buenos Aires",
          "Argentina",
          "Australia/Brisbane",
          "Australia/Melbourne",
          "Australia/Sydney",
          "Australia/Adelaide",
          "Australia",
          "Austria",
          "Austria/Linz",
          "Austria/Vienna",
          "Belgium",
          "Belgium/Ghent",
          "Brazil/Belo Horizonte",
          "Brazil/Blumenau",
          "Brazil/Curitiba",
          "Brazil/Florianopolis",
          "Brazil/Joinville",
          "Brazil/Sao Paulo",
          "Brazil",
          "Canada",
          "Canada/Winnipeg",
          "Canada/Waterloo",
          "Canada/Vancouver",
          "Canada/Toronto",
          "Canada/Quebec",
          "Canada/Montreal",
          "Canada/London",
          "Canada/Kitchener",
          "Canada/Ferdericton",
          "Canada/Calgary",
          "Canada/Saskatoon",
          "Canada/Ottawa",
          "Cayman Islands/Cayman Islands",
          "Cayman Islands",
          "Chile/Santiago",
          "Chile",
          "China",
          "China/Beijing",
          "China/Shanghai",
          "China/Xi'an",
          "China/Bejing",
          "Cyprus/Nicosia",
          "Cyprus",
          "Czech Republic/Prague",
          "Czech Republic/Brno",
          "Czech Republic",
          "Denmark/Copenhagen",
          "Denmark",
          "Estonia/Tallinn",
          "Estonia",
          "Finland",
          "Finland/Helsinki",
          "Finland/Espoo",
          "France/Paris",
          "France",
          "Germany",
          "Germany/Frankfurt am Main",
          "Germany/Boston",
          "Germany/Berlin",
          "Germany/Hamburg",
          "Germany/Karlsruhe",
          "Germany/Kiel",
          "Germany/Munich",
          "Germany/Walldorf",
          "Hong Kong/Hong Kong",
          "Hong Kong",
          "India/Ahmedabad",
          "India/Bengaluru",
          "India/Chennai",
          "India/Fremont",
          "India/Noida",
          "India/Mumbai",
          "India/Nashik",
          "India",
          "India/Pune",
          "India/New Delhi",
          "India/Gurugram",
          "Indonesia",
          "Indonesia/Jakarta",
          "Indonesia/Indonesia",
          "Ireland",
          "Ireland/Dublin",
          "Israel",
          "Israel/Ness Ziona",
          "Israel/Tel Aviv ",
          "Israel/Haifa",
          "Israel/Jerusalem",
          "Israel/Kfar Saba",
          "Israel/Ra'anana",
          "Israel/Sderot",
          "Israel/Tel Aviv",
          "Israel/Yavne",
          "Japan",
          "Japan/Tokyo",
          "Kenya",
          "Kenya/Nairobi",
          "Lithuania/Vilnius",
          "Lithuania",
          "Malaysia/Kuala Lumpur",
          "Malaysia",
          "Malta",
          "Malta/Sliema",
          "Mexico/Mexico City",
          "Mexico/Guadalajara",
          "Mexico",
          "Netherlands",
          "Netherlands/Amsterdam",
          "Netherlands/Hoofddorp",
          "New Zealand/Wellington",
          "New Zealand",
          "New Zealand/Auckland",
          "Nigeria/Lagos ",
          "Nigeria/Lagos",
          "Nigeria",
          "Norway",
          "Norway/Oslo",
          "Pakistan/Islamabad",
          "Pakistan",
          "Pakistan/Karachi",
          "Poland",
          "Poland/Lodz",
          "Poland/Warsaw",
          "Poland/Krakow",
          "Portugal",
          "Portugal/Lisbon",
          "Russia",
          "Russia/Moscow",
          "Senegal",
          "Senegal/Dakar",
          "Singapore",
          "Singapore/Singapore",
          "South Korea/Seoul",
          "South Korea",
          "Spain",
          "Spain/Barcelona",
          "Spain/Madrid",
          "Sweden/Malmö",
          "Sweden/Stockholm",
          "Sweden/Gothenburg",
          "Sweden",
          "Switzerland",
          "Switzerland/Zurich",
          "Thailand",
          "Thailand/Bangkok",
          "UK/Salisbury",
          "UK/Oxford",
          "UK/Chester",
          "UK/Edinburgh",
          "UK/Leamington Spa",
          "UK/London",
          "UK/Manchester",
          "UK/Bristol",
          "UK",
          "USA/San Rafael",
          "USA/San Diego",
          "USA/San Mateo",
          "USA/San Luis Obispo",
          "USA/San Leandro",
          "USA/San Jose",
          "USA/San Francisco",
          "USA/Reno",
          "USA/San Bruno",
          "USA/Salt Lake City",
          "USA/Sacramento",
          "USA/Richmond",
          "USA/Redwood City",
          "USA/San Ramon",
          "USA/Raleigh",
          "USA/San Carlos",
          "USA/Santa Barbara",
          "USA/Toronto",
          "USA/Santa Fe",
          "USA",
          "USA/Portland",
          "USA/Wilmington",
          "USA/Washington DC",
          "USA/Waltham",
          "USA/Walnut Creek",
          "USA/Walnut",
          "USA/Vancouver",
          "USA/Tampa Bay",
          "USA/Tampa",
          "USA/Sunnyvale",
          "USA/Stamford",
          "USA/Spokane",
          "USA/Sheffield",
          "USA/Seattle",
          "USA/Santa Clara",
          "USA/Pleasanton",
          "USA/Denver",
          "USA/Phoenix",
          "USA/Cincinnati",
          "USA/Columbus",
          "USA/Coral Gables",
          "USA/Corvallis",
          "USA/Cupertino",
          "USA/Dallas",
          "USA/Detroit",
          "USA/Dover",
          "USA/Dublin",
          "USA/Durham",
          "USA/Forster City",
          "USA/Fort Collins",
          "USA/Foster City",
          "USA/Fremont",
          "USA/Fresno",
          "USA/Gilroy",
          "USA/Grand Rapids",
          "USA/Chicago",
          "USA/Chattanooga",
          "USA/Charleston",
          "USA/Cedar Falls",
          "USA/Agoura Hills",
          "USA/Alameda",
          "USA/Ann Arbor",
          "USA/Atlanta",
          "USA/Austin",
          "USA/Baltimore",
          "USA/Belleville",
          "USA/Bend",
          "USA/Pittsburgh",
          "USA/Berkeley",
          "USA/Birmingham",
          "USA/Boise",
          "USA/Boston",
          "USA/Boulder",
          "USA/Burlingame",
          "USA/Burlington",
          "USA/Camarillo",
          "USA/Campbell",
          "USA/Berlin",
          "USA/Hartford",
          "USA/Greenwood Village",
          "USA/Holmdel",
          "USA/Miami",
          "USA/Milpitas",
          "USA/Milwaukee",
          "USA/Minneapolis",
          "USA/Missoula",
          "USA/Mountain View",
          "USA/Nashua",
          "USA/Nashville",
          "USA/Menlo Park",
          "USA/Nebraska City",
          "USA/Newark",
          "USA/North Bethesda",
          "USA/Norwalk",
          "USA/Oakland",
          "USA/Orlando",
          "USA/Oxford",
          "USA/Palo Alto",
          "USA/Philadelphia",
          "USA/New York City",
          "USA/Hayward",
          "USA/Memphis",
          "USA/Louisville",
          "USA/Huntington Beach",
          "USA/Indianapolis",
          "USA/Kansas City",
          "USA/Madison",
          "USA/Lehi",
          "USA/Little Rock",
          "USA/Las Vegas",
          "USA/Livermore",
          "USA/Logan",
          "USA/London",
          "USA/Los Altos",
          "USA/Los Angeles",
          "USA/Los Gatos",
          "United Arabian Emirates/Dubai",
          "United Arabian Emirates",
          "United Kingdom/Bristol",
          "United Kingdom/London",
          "United Kingdom/Manchester",
          "United Kingdom",
          "Uruquay/Montevideo",
          "Uruquay"
         ],
         "labels": [
          "Buenos Aires",
          "Argentina",
          "Brisbane",
          "Melbourne",
          "Sydney",
          "Adelaide",
          "Australia",
          "Austria",
          "Linz",
          "Vienna",
          "Belgium",
          "Ghent",
          "Belo Horizonte",
          "Blumenau",
          "Curitiba",
          "Florianopolis",
          "Joinville",
          "Sao Paulo",
          "Brazil",
          "Canada",
          "Winnipeg",
          "Waterloo",
          "Vancouver",
          "Toronto",
          "Quebec",
          "Montreal",
          "London",
          "Kitchener",
          "Ferdericton",
          "Calgary",
          "Saskatoon",
          "Ottawa",
          "Cayman Islands",
          "Cayman Islands",
          "Santiago",
          "Chile",
          "China",
          "Beijing",
          "Shanghai",
          "Xi'an",
          "Bejing",
          "Nicosia",
          "Cyprus",
          "Prague",
          "Brno",
          "Czech Republic",
          "Copenhagen",
          "Denmark",
          "Tallinn",
          "Estonia",
          "Finland",
          "Helsinki",
          "Espoo",
          "Paris",
          "France",
          "Germany",
          "Frankfurt am Main",
          "Boston",
          "Berlin",
          "Hamburg",
          "Karlsruhe",
          "Kiel",
          "Munich",
          "Walldorf",
          "Hong Kong",
          "Hong Kong",
          "Ahmedabad",
          "Bengaluru",
          "Chennai",
          "Fremont",
          "Noida",
          "Mumbai",
          "Nashik",
          "India",
          "Pune",
          "New Delhi",
          "Gurugram",
          "Indonesia",
          "Jakarta",
          "Indonesia",
          "Ireland",
          "Dublin",
          "Israel",
          "Ness Ziona",
          "Tel Aviv ",
          "Haifa",
          "Jerusalem",
          "Kfar Saba",
          "Ra'anana",
          "Sderot",
          "Tel Aviv",
          "Yavne",
          "Japan",
          "Tokyo",
          "Kenya",
          "Nairobi",
          "Vilnius",
          "Lithuania",
          "Kuala Lumpur",
          "Malaysia",
          "Malta",
          "Sliema",
          "Mexico City",
          "Guadalajara",
          "Mexico",
          "Netherlands",
          "Amsterdam",
          "Hoofddorp",
          "Wellington",
          "New Zealand",
          "Auckland",
          "Lagos ",
          "Lagos",
          "Nigeria",
          "Norway",
          "Oslo",
          "Islamabad",
          "Pakistan",
          "Karachi",
          "Poland",
          "Lodz",
          "Warsaw",
          "Krakow",
          "Portugal",
          "Lisbon",
          "Russia",
          "Moscow",
          "Senegal",
          "Dakar",
          "Singapore",
          "Singapore",
          "Seoul",
          "South Korea",
          "Spain",
          "Barcelona",
          "Madrid",
          "Malmö",
          "Stockholm",
          "Gothenburg",
          "Sweden",
          "Switzerland",
          "Zurich",
          "Thailand",
          "Bangkok",
          "Salisbury",
          "Oxford",
          "Chester",
          "Edinburgh",
          "Leamington Spa",
          "London",
          "Manchester",
          "Bristol",
          "UK",
          "San Rafael",
          "San Diego",
          "San Mateo",
          "San Luis Obispo",
          "San Leandro",
          "San Jose",
          "San Francisco",
          "Reno",
          "San Bruno",
          "Salt Lake City",
          "Sacramento",
          "Richmond",
          "Redwood City",
          "San Ramon",
          "Raleigh",
          "San Carlos",
          "Santa Barbara",
          "Toronto",
          "Santa Fe",
          "USA",
          "Portland",
          "Wilmington",
          "Washington DC",
          "Waltham",
          "Walnut Creek",
          "Walnut",
          "Vancouver",
          "Tampa Bay",
          "Tampa",
          "Sunnyvale",
          "Stamford",
          "Spokane",
          "Sheffield",
          "Seattle",
          "Santa Clara",
          "Pleasanton",
          "Denver",
          "Phoenix",
          "Cincinnati",
          "Columbus",
          "Coral Gables",
          "Corvallis",
          "Cupertino",
          "Dallas",
          "Detroit",
          "Dover",
          "Dublin",
          "Durham",
          "Forster City",
          "Fort Collins",
          "Foster City",
          "Fremont",
          "Fresno",
          "Gilroy",
          "Grand Rapids",
          "Chicago",
          "Chattanooga",
          "Charleston",
          "Cedar Falls",
          "Agoura Hills",
          "Alameda",
          "Ann Arbor",
          "Atlanta",
          "Austin",
          "Baltimore",
          "Belleville",
          "Bend",
          "Pittsburgh",
          "Berkeley",
          "Birmingham",
          "Boise",
          "Boston",
          "Boulder",
          "Burlingame",
          "Burlington",
          "Camarillo",
          "Campbell",
          "Berlin",
          "Hartford",
          "Greenwood Village",
          "Holmdel",
          "Miami",
          "Milpitas",
          "Milwaukee",
          "Minneapolis",
          "Missoula",
          "Mountain View",
          "Nashua",
          "Nashville",
          "Menlo Park",
          "Nebraska City",
          "Newark",
          "North Bethesda",
          "Norwalk",
          "Oakland",
          "Orlando",
          "Oxford",
          "Palo Alto",
          "Philadelphia",
          "New York City",
          "Hayward",
          "Memphis",
          "Louisville",
          "Huntington Beach",
          "Indianapolis",
          "Kansas City",
          "Madison",
          "Lehi",
          "Little Rock",
          "Las Vegas",
          "Livermore",
          "Logan",
          "London",
          "Los Altos",
          "Los Angeles",
          "Los Gatos",
          "Dubai",
          "United Arabian Emirates",
          "Bristol",
          "London",
          "Manchester",
          "United Kingdom",
          "Montevideo",
          "Uruquay"
         ],
         "marker": {
          "colors": [
           "#636efa",
           "#636efa",
           "#EF553B",
           "#EF553B",
           "#EF553B",
           "#EF553B",
           "#EF553B",
           "#00cc96",
           "#00cc96",
           "#00cc96",
           "#ab63fa",
           "#ab63fa",
           "#FFA15A",
           "#FFA15A",
           "#FFA15A",
           "#FFA15A",
           "#FFA15A",
           "#FFA15A",
           "#FFA15A",
           "#19d3f3",
           "#19d3f3",
           "#19d3f3",
           "#19d3f3",
           "#19d3f3",
           "#19d3f3",
           "#19d3f3",
           "#19d3f3",
           "#19d3f3",
           "#19d3f3",
           "#19d3f3",
           "#19d3f3",
           "#19d3f3",
           "#FF6692",
           "#FF6692",
           "#B6E880",
           "#B6E880",
           "#FF97FF",
           "#FF97FF",
           "#FF97FF",
           "#FF97FF",
           "#FF97FF",
           "#FECB52",
           "#FECB52",
           "#636efa",
           "#636efa",
           "#636efa",
           "#EF553B",
           "#EF553B",
           "#00cc96",
           "#00cc96",
           "#ab63fa",
           "#ab63fa",
           "#ab63fa",
           "#FFA15A",
           "#FFA15A",
           "#19d3f3",
           "#19d3f3",
           "#19d3f3",
           "#19d3f3",
           "#19d3f3",
           "#19d3f3",
           "#19d3f3",
           "#19d3f3",
           "#19d3f3",
           "#FF6692",
           "#FF6692",
           "#B6E880",
           "#B6E880",
           "#B6E880",
           "#B6E880",
           "#B6E880",
           "#B6E880",
           "#B6E880",
           "#B6E880",
           "#B6E880",
           "#B6E880",
           "#B6E880",
           "#FF97FF",
           "#FF97FF",
           "#FF97FF",
           "#FECB52",
           "#FECB52",
           "#636efa",
           "#636efa",
           "#636efa",
           "#636efa",
           "#636efa",
           "#636efa",
           "#636efa",
           "#636efa",
           "#636efa",
           "#636efa",
           "#EF553B",
           "#EF553B",
           "#00cc96",
           "#00cc96",
           "#ab63fa",
           "#ab63fa",
           "#FFA15A",
           "#FFA15A",
           "#19d3f3",
           "#19d3f3",
           "#FF6692",
           "#FF6692",
           "#FF6692",
           "#B6E880",
           "#B6E880",
           "#B6E880",
           "#FF97FF",
           "#FF97FF",
           "#FF97FF",
           "#FECB52",
           "#FECB52",
           "#FECB52",
           "#636efa",
           "#636efa",
           "#EF553B",
           "#EF553B",
           "#EF553B",
           "#00cc96",
           "#00cc96",
           "#00cc96",
           "#00cc96",
           "#ab63fa",
           "#ab63fa",
           "#FFA15A",
           "#FFA15A",
           "#19d3f3",
           "#19d3f3",
           "#FF6692",
           "#FF6692",
           "#B6E880",
           "#B6E880",
           "#FF97FF",
           "#FF97FF",
           "#FF97FF",
           "#FECB52",
           "#FECB52",
           "#FECB52",
           "#FECB52",
           "#636efa",
           "#636efa",
           "#EF553B",
           "#EF553B",
           "#00cc96",
           "#00cc96",
           "#00cc96",
           "#00cc96",
           "#00cc96",
           "#00cc96",
           "#00cc96",
           "#00cc96",
           "#00cc96",
           "#ab63fa",
           "#ab63fa",
           "#ab63fa",
           "#ab63fa",
           "#ab63fa",
           "#ab63fa",
           "#ab63fa",
           "#ab63fa",
           "#ab63fa",
           "#ab63fa",
           "#ab63fa",
           "#ab63fa",
           "#ab63fa",
           "#ab63fa",
           "#ab63fa",
           "#ab63fa",
           "#ab63fa",
           "#ab63fa",
           "#ab63fa",
           "#ab63fa",
           "#ab63fa",
           "#ab63fa",
           "#ab63fa",
           "#ab63fa",
           "#ab63fa",
           "#ab63fa",
           "#ab63fa",
           "#ab63fa",
           "#ab63fa",
           "#ab63fa",
           "#ab63fa",
           "#ab63fa",
           "#ab63fa",
           "#ab63fa",
           "#ab63fa",
           "#ab63fa",
           "#ab63fa",
           "#ab63fa",
           "#ab63fa",
           "#ab63fa",
           "#ab63fa",
           "#ab63fa",
           "#ab63fa",
           "#ab63fa",
           "#ab63fa",
           "#ab63fa",
           "#ab63fa",
           "#ab63fa",
           "#ab63fa",
           "#ab63fa",
           "#ab63fa",
           "#ab63fa",
           "#ab63fa",
           "#ab63fa",
           "#ab63fa",
           "#ab63fa",
           "#ab63fa",
           "#ab63fa",
           "#ab63fa",
           "#ab63fa",
           "#ab63fa",
           "#ab63fa",
           "#ab63fa",
           "#ab63fa",
           "#ab63fa",
           "#ab63fa",
           "#ab63fa",
           "#ab63fa",
           "#ab63fa",
           "#ab63fa",
           "#ab63fa",
           "#ab63fa",
           "#ab63fa",
           "#ab63fa",
           "#ab63fa",
           "#ab63fa",
           "#ab63fa",
           "#ab63fa",
           "#ab63fa",
           "#ab63fa",
           "#ab63fa",
           "#ab63fa",
           "#ab63fa",
           "#ab63fa",
           "#ab63fa",
           "#ab63fa",
           "#ab63fa",
           "#ab63fa",
           "#ab63fa",
           "#ab63fa",
           "#ab63fa",
           "#ab63fa",
           "#ab63fa",
           "#ab63fa",
           "#ab63fa",
           "#ab63fa",
           "#ab63fa",
           "#ab63fa",
           "#ab63fa",
           "#ab63fa",
           "#ab63fa",
           "#ab63fa",
           "#ab63fa",
           "#ab63fa",
           "#ab63fa",
           "#ab63fa",
           "#ab63fa",
           "#ab63fa",
           "#ab63fa",
           "#ab63fa",
           "#ab63fa",
           "#ab63fa",
           "#ab63fa",
           "#ab63fa",
           "#ab63fa",
           "#ab63fa",
           "#FFA15A",
           "#FFA15A",
           "#19d3f3",
           "#19d3f3",
           "#19d3f3",
           "#19d3f3",
           "#FF6692",
           "#FF6692"
          ]
         },
         "name": "",
         "parents": [
          "Argentina",
          "",
          "Australia",
          "Australia",
          "Australia",
          "Australia",
          "",
          "",
          "Austria",
          "Austria",
          "",
          "Belgium",
          "Brazil",
          "Brazil",
          "Brazil",
          "Brazil",
          "Brazil",
          "Brazil",
          "",
          "",
          "Canada",
          "Canada",
          "Canada",
          "Canada",
          "Canada",
          "Canada",
          "Canada",
          "Canada",
          "Canada",
          "Canada",
          "Canada",
          "Canada",
          "Cayman Islands",
          "",
          "Chile",
          "",
          "",
          "China",
          "China",
          "China",
          "China",
          "Cyprus",
          "",
          "Czech Republic",
          "Czech Republic",
          "",
          "Denmark",
          "",
          "Estonia",
          "",
          "",
          "Finland",
          "Finland",
          "France",
          "",
          "",
          "Germany",
          "Germany",
          "Germany",
          "Germany",
          "Germany",
          "Germany",
          "Germany",
          "Germany",
          "Hong Kong",
          "",
          "India",
          "India",
          "India",
          "India",
          "India",
          "India",
          "India",
          "",
          "India",
          "India",
          "India",
          "",
          "Indonesia",
          "Indonesia",
          "",
          "Ireland",
          "",
          "Israel",
          "Israel",
          "Israel",
          "Israel",
          "Israel",
          "Israel",
          "Israel",
          "Israel",
          "Israel",
          "",
          "Japan",
          "",
          "Kenya",
          "Lithuania",
          "",
          "Malaysia",
          "",
          "",
          "Malta",
          "Mexico",
          "Mexico",
          "",
          "",
          "Netherlands",
          "Netherlands",
          "New Zealand",
          "",
          "New Zealand",
          "Nigeria",
          "Nigeria",
          "",
          "",
          "Norway",
          "Pakistan",
          "",
          "Pakistan",
          "",
          "Poland",
          "Poland",
          "Poland",
          "",
          "Portugal",
          "",
          "Russia",
          "",
          "Senegal",
          "",
          "Singapore",
          "South Korea",
          "",
          "",
          "Spain",
          "Spain",
          "Sweden",
          "Sweden",
          "Sweden",
          "",
          "",
          "Switzerland",
          "",
          "Thailand",
          "UK",
          "UK",
          "UK",
          "UK",
          "UK",
          "UK",
          "UK",
          "UK",
          "",
          "USA",
          "USA",
          "USA",
          "USA",
          "USA",
          "USA",
          "USA",
          "USA",
          "USA",
          "USA",
          "USA",
          "USA",
          "USA",
          "USA",
          "USA",
          "USA",
          "USA",
          "USA",
          "USA",
          "",
          "USA",
          "USA",
          "USA",
          "USA",
          "USA",
          "USA",
          "USA",
          "USA",
          "USA",
          "USA",
          "USA",
          "USA",
          "USA",
          "USA",
          "USA",
          "USA",
          "USA",
          "USA",
          "USA",
          "USA",
          "USA",
          "USA",
          "USA",
          "USA",
          "USA",
          "USA",
          "USA",
          "USA",
          "USA",
          "USA",
          "USA",
          "USA",
          "USA",
          "USA",
          "USA",
          "USA",
          "USA",
          "USA",
          "USA",
          "USA",
          "USA",
          "USA",
          "USA",
          "USA",
          "USA",
          "USA",
          "USA",
          "USA",
          "USA",
          "USA",
          "USA",
          "USA",
          "USA",
          "USA",
          "USA",
          "USA",
          "USA",
          "USA",
          "USA",
          "USA",
          "USA",
          "USA",
          "USA",
          "USA",
          "USA",
          "USA",
          "USA",
          "USA",
          "USA",
          "USA",
          "USA",
          "USA",
          "USA",
          "USA",
          "USA",
          "USA",
          "USA",
          "USA",
          "USA",
          "USA",
          "USA",
          "USA",
          "USA",
          "USA",
          "USA",
          "USA",
          "USA",
          "USA",
          "USA",
          "USA",
          "USA",
          "USA",
          "USA",
          "USA",
          "USA",
          "USA",
          "United Arabian Emirates",
          "",
          "United Kingdom",
          "United Kingdom",
          "United Kingdom",
          "",
          "Uruquay",
          ""
         ],
         "textinfo": "label+percent parent",
         "type": "treemap",
         "values": {
          "bdata": "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",
          "dtype": "f8"
         }
        }
       ],
       "layout": {
        "height": 800,
        "legend": {
         "tracegroupgap": 0
        },
        "margin": {
         "t": 60
        },
        "template": {
         "data": {
          "bar": [
           {
            "error_x": {
             "color": "#2a3f5f"
            },
            "error_y": {
             "color": "#2a3f5f"
            },
            "marker": {
             "line": {
              "color": "#E5ECF6",
              "width": 0.5
             },
             "pattern": {
              "fillmode": "overlay",
              "size": 10,
              "solidity": 0.2
             }
            },
            "type": "bar"
           }
          ],
          "barpolar": [
           {
            "marker": {
             "line": {
              "color": "#E5ECF6",
              "width": 0.5
             },
             "pattern": {
              "fillmode": "overlay",
              "size": 10,
              "solidity": 0.2
             }
            },
            "type": "barpolar"
           }
          ],
          "carpet": [
           {
            "aaxis": {
             "endlinecolor": "#2a3f5f",
             "gridcolor": "white",
             "linecolor": "white",
             "minorgridcolor": "white",
             "startlinecolor": "#2a3f5f"
            },
            "baxis": {
             "endlinecolor": "#2a3f5f",
             "gridcolor": "white",
             "linecolor": "white",
             "minorgridcolor": "white",
             "startlinecolor": "#2a3f5f"
            },
            "type": "carpet"
           }
          ],
          "choropleth": [
           {
            "colorbar": {
             "outlinewidth": 0,
             "ticks": ""
            },
            "type": "choropleth"
           }
          ],
          "contour": [
           {
            "colorbar": {
             "outlinewidth": 0,
             "ticks": ""
            },
            "colorscale": [
             [
              0,
              "#0d0887"
             ],
             [
              0.1111111111111111,
              "#46039f"
             ],
             [
              0.2222222222222222,
              "#7201a8"
             ],
             [
              0.3333333333333333,
              "#9c179e"
             ],
             [
              0.4444444444444444,
              "#bd3786"
             ],
             [
              0.5555555555555556,
              "#d8576b"
             ],
             [
              0.6666666666666666,
              "#ed7953"
             ],
             [
              0.7777777777777778,
              "#fb9f3a"
             ],
             [
              0.8888888888888888,
              "#fdca26"
             ],
             [
              1,
              "#f0f921"
             ]
            ],
            "type": "contour"
           }
          ],
          "contourcarpet": [
           {
            "colorbar": {
             "outlinewidth": 0,
             "ticks": ""
            },
            "type": "contourcarpet"
           }
          ],
          "heatmap": [
           {
            "colorbar": {
             "outlinewidth": 0,
             "ticks": ""
            },
            "colorscale": [
             [
              0,
              "#0d0887"
             ],
             [
              0.1111111111111111,
              "#46039f"
             ],
             [
              0.2222222222222222,
              "#7201a8"
             ],
             [
              0.3333333333333333,
              "#9c179e"
             ],
             [
              0.4444444444444444,
              "#bd3786"
             ],
             [
              0.5555555555555556,
              "#d8576b"
             ],
             [
              0.6666666666666666,
              "#ed7953"
             ],
             [
              0.7777777777777778,
              "#fb9f3a"
             ],
             [
              0.8888888888888888,
              "#fdca26"
             ],
             [
              1,
              "#f0f921"
             ]
            ],
            "type": "heatmap"
           }
          ],
          "histogram": [
           {
            "marker": {
             "pattern": {
              "fillmode": "overlay",
              "size": 10,
              "solidity": 0.2
             }
            },
            "type": "histogram"
           }
          ],
          "histogram2d": [
           {
            "colorbar": {
             "outlinewidth": 0,
             "ticks": ""
            },
            "colorscale": [
             [
              0,
              "#0d0887"
             ],
             [
              0.1111111111111111,
              "#46039f"
             ],
             [
              0.2222222222222222,
              "#7201a8"
             ],
             [
              0.3333333333333333,
              "#9c179e"
             ],
             [
              0.4444444444444444,
              "#bd3786"
             ],
             [
              0.5555555555555556,
              "#d8576b"
             ],
             [
              0.6666666666666666,
              "#ed7953"
             ],
             [
              0.7777777777777778,
              "#fb9f3a"
             ],
             [
              0.8888888888888888,
              "#fdca26"
             ],
             [
              1,
              "#f0f921"
             ]
            ],
            "type": "histogram2d"
           }
          ],
          "histogram2dcontour": [
           {
            "colorbar": {
             "outlinewidth": 0,
             "ticks": ""
            },
            "colorscale": [
             [
              0,
              "#0d0887"
             ],
             [
              0.1111111111111111,
              "#46039f"
             ],
             [
              0.2222222222222222,
              "#7201a8"
             ],
             [
              0.3333333333333333,
              "#9c179e"
             ],
             [
              0.4444444444444444,
              "#bd3786"
             ],
             [
              0.5555555555555556,
              "#d8576b"
             ],
             [
              0.6666666666666666,
              "#ed7953"
             ],
             [
              0.7777777777777778,
              "#fb9f3a"
             ],
             [
              0.8888888888888888,
              "#fdca26"
             ],
             [
              1,
              "#f0f921"
             ]
            ],
            "type": "histogram2dcontour"
           }
          ],
          "mesh3d": [
           {
            "colorbar": {
             "outlinewidth": 0,
             "ticks": ""
            },
            "type": "mesh3d"
           }
          ],
          "parcoords": [
           {
            "line": {
             "colorbar": {
              "outlinewidth": 0,
              "ticks": ""
             }
            },
            "type": "parcoords"
           }
          ],
          "pie": [
           {
            "automargin": true,
            "type": "pie"
           }
          ],
          "scatter": [
           {
            "fillpattern": {
             "fillmode": "overlay",
             "size": 10,
             "solidity": 0.2
            },
            "type": "scatter"
           }
          ],
          "scatter3d": [
           {
            "line": {
             "colorbar": {
              "outlinewidth": 0,
              "ticks": ""
             }
            },
            "marker": {
             "colorbar": {
              "outlinewidth": 0,
              "ticks": ""
             }
            },
            "type": "scatter3d"
           }
          ],
          "scattercarpet": [
           {
            "marker": {
             "colorbar": {
              "outlinewidth": 0,
              "ticks": ""
             }
            },
            "type": "scattercarpet"
           }
          ],
          "scattergeo": [
           {
            "marker": {
             "colorbar": {
              "outlinewidth": 0,
              "ticks": ""
             }
            },
            "type": "scattergeo"
           }
          ],
          "scattergl": [
           {
            "marker": {
             "colorbar": {
              "outlinewidth": 0,
              "ticks": ""
             }
            },
            "type": "scattergl"
           }
          ],
          "scattermap": [
           {
            "marker": {
             "colorbar": {
              "outlinewidth": 0,
              "ticks": ""
             }
            },
            "type": "scattermap"
           }
          ],
          "scattermapbox": [
           {
            "marker": {
             "colorbar": {
              "outlinewidth": 0,
              "ticks": ""
             }
            },
            "type": "scattermapbox"
           }
          ],
          "scatterpolar": [
           {
            "marker": {
             "colorbar": {
              "outlinewidth": 0,
              "ticks": ""
             }
            },
            "type": "scatterpolar"
           }
          ],
          "scatterpolargl": [
           {
            "marker": {
             "colorbar": {
              "outlinewidth": 0,
              "ticks": ""
             }
            },
            "type": "scatterpolargl"
           }
          ],
          "scatterternary": [
           {
            "marker": {
             "colorbar": {
              "outlinewidth": 0,
              "ticks": ""
             }
            },
            "type": "scatterternary"
           }
          ],
          "surface": [
           {
            "colorbar": {
             "outlinewidth": 0,
             "ticks": ""
            },
            "colorscale": [
             [
              0,
              "#0d0887"
             ],
             [
              0.1111111111111111,
              "#46039f"
             ],
             [
              0.2222222222222222,
              "#7201a8"
             ],
             [
              0.3333333333333333,
              "#9c179e"
             ],
             [
              0.4444444444444444,
              "#bd3786"
             ],
             [
              0.5555555555555556,
              "#d8576b"
             ],
             [
              0.6666666666666666,
              "#ed7953"
             ],
             [
              0.7777777777777778,
              "#fb9f3a"
             ],
             [
              0.8888888888888888,
              "#fdca26"
             ],
             [
              1,
              "#f0f921"
             ]
            ],
            "type": "surface"
           }
          ],
          "table": [
           {
            "cells": {
             "fill": {
              "color": "#EBF0F8"
             },
             "line": {
              "color": "white"
             }
            },
            "header": {
             "fill": {
              "color": "#C8D4E3"
             },
             "line": {
              "color": "white"
             }
            },
            "type": "table"
           }
          ]
         },
         "layout": {
          "annotationdefaults": {
           "arrowcolor": "#2a3f5f",
           "arrowhead": 0,
           "arrowwidth": 1
          },
          "autotypenumbers": "strict",
          "coloraxis": {
           "colorbar": {
            "outlinewidth": 0,
            "ticks": ""
           }
          },
          "colorscale": {
           "diverging": [
            [
             0,
             "#8e0152"
            ],
            [
             0.1,
             "#c51b7d"
            ],
            [
             0.2,
             "#de77ae"
            ],
            [
             0.3,
             "#f1b6da"
            ],
            [
             0.4,
             "#fde0ef"
            ],
            [
             0.5,
             "#f7f7f7"
            ],
            [
             0.6,
             "#e6f5d0"
            ],
            [
             0.7,
             "#b8e186"
            ],
            [
             0.8,
             "#7fbc41"
            ],
            [
             0.9,
             "#4d9221"
            ],
            [
             1,
             "#276419"
            ]
           ],
           "sequential": [
            [
             0,
             "#0d0887"
            ],
            [
             0.1111111111111111,
             "#46039f"
            ],
            [
             0.2222222222222222,
             "#7201a8"
            ],
            [
             0.3333333333333333,
             "#9c179e"
            ],
            [
             0.4444444444444444,
             "#bd3786"
            ],
            [
             0.5555555555555556,
             "#d8576b"
            ],
            [
             0.6666666666666666,
             "#ed7953"
            ],
            [
             0.7777777777777778,
             "#fb9f3a"
            ],
            [
             0.8888888888888888,
             "#fdca26"
            ],
            [
             1,
             "#f0f921"
            ]
           ],
           "sequentialminus": [
            [
             0,
             "#0d0887"
            ],
            [
             0.1111111111111111,
             "#46039f"
            ],
            [
             0.2222222222222222,
             "#7201a8"
            ],
            [
             0.3333333333333333,
             "#9c179e"
            ],
            [
             0.4444444444444444,
             "#bd3786"
            ],
            [
             0.5555555555555556,
             "#d8576b"
            ],
            [
             0.6666666666666666,
             "#ed7953"
            ],
            [
             0.7777777777777778,
             "#fb9f3a"
            ],
            [
             0.8888888888888888,
             "#fdca26"
            ],
            [
             1,
             "#f0f921"
            ]
           ]
          },
          "colorway": [
           "#636efa",
           "#EF553B",
           "#00cc96",
           "#ab63fa",
           "#FFA15A",
           "#19d3f3",
           "#FF6692",
           "#B6E880",
           "#FF97FF",
           "#FECB52"
          ],
          "font": {
           "color": "#2a3f5f"
          },
          "geo": {
           "bgcolor": "white",
           "lakecolor": "white",
           "landcolor": "#E5ECF6",
           "showlakes": true,
           "showland": true,
           "subunitcolor": "white"
          },
          "hoverlabel": {
           "align": "left"
          },
          "hovermode": "closest",
          "mapbox": {
           "style": "light"
          },
          "paper_bgcolor": "white",
          "plot_bgcolor": "#E5ECF6",
          "polar": {
           "angularaxis": {
            "gridcolor": "white",
            "linecolor": "white",
            "ticks": ""
           },
           "bgcolor": "#E5ECF6",
           "radialaxis": {
            "gridcolor": "white",
            "linecolor": "white",
            "ticks": ""
           }
          },
          "scene": {
           "xaxis": {
            "backgroundcolor": "#E5ECF6",
            "gridcolor": "white",
            "gridwidth": 2,
            "linecolor": "white",
            "showbackground": true,
            "ticks": "",
            "zerolinecolor": "white"
           },
           "yaxis": {
            "backgroundcolor": "#E5ECF6",
            "gridcolor": "white",
            "gridwidth": 2,
            "linecolor": "white",
            "showbackground": true,
            "ticks": "",
            "zerolinecolor": "white"
           },
           "zaxis": {
            "backgroundcolor": "#E5ECF6",
            "gridcolor": "white",
            "gridwidth": 2,
            "linecolor": "white",
            "showbackground": true,
            "ticks": "",
            "zerolinecolor": "white"
           }
          },
          "shapedefaults": {
           "line": {
            "color": "#2a3f5f"
           }
          },
          "ternary": {
           "aaxis": {
            "gridcolor": "white",
            "linecolor": "white",
            "ticks": ""
           },
           "baxis": {
            "gridcolor": "white",
            "linecolor": "white",
            "ticks": ""
           },
           "bgcolor": "#E5ECF6",
           "caxis": {
            "gridcolor": "white",
            "linecolor": "white",
            "ticks": ""
           }
          },
          "title": {
           "x": 0.05
          },
          "xaxis": {
           "automargin": true,
           "gridcolor": "white",
           "linecolor": "white",
           "ticks": "",
           "title": {
            "standoff": 15
           },
           "zerolinecolor": "white",
           "zerolinewidth": 2
          },
          "yaxis": {
           "automargin": true,
           "gridcolor": "white",
           "linecolor": "white",
           "ticks": "",
           "title": {
            "standoff": 15
           },
           "zerolinecolor": "white",
           "zerolinewidth": 2
          }
         }
        },
        "width": 1280
       }
      }
     },
     "metadata": {},
     "output_type": "display_data"
    }
   ],
   "source": [
    "fig = px.treemap(gr_cat, width=1280, height=800,\n",
    "                 path=[\"Country\",\"Location_HQ\"], values='size',\n",
    "                 color='Country')\n",
    "fig.update_traces(textinfo=\"label+percent parent\")\n",
    "fig.show()"
   ]
  },
  {
   "cell_type": "markdown",
   "metadata": {},
   "source": [
    "What chart do you like more sunburst or treemap for this data?\n",
    "\n",
    "Let's do a treemap charts with only locations in the USA."
   ]
  },
  {
   "cell_type": "code",
   "execution_count": 8,
   "metadata": {
    "execution": {
     "iopub.execute_input": "2024-07-08T17:28:54.901330Z",
     "iopub.status.busy": "2024-07-08T17:28:54.900935Z",
     "iopub.status.idle": "2024-07-08T17:28:55.064827Z",
     "shell.execute_reply": "2024-07-08T17:28:55.063821Z",
     "shell.execute_reply.started": "2024-07-08T17:28:54.901299Z"
    },
    "trusted": true
   },
   "outputs": [
    {
     "data": {
      "application/vnd.plotly.v1+json": {
       "config": {
        "plotlyServerURL": "https://plot.ly"
       },
       "data": [
        {
         "branchvalues": "total",
         "customdata": [
          [
           "(?)"
          ],
          [
           "Agoura Hills"
          ],
          [
           "Alameda"
          ],
          [
           "Ann Arbor"
          ],
          [
           "Atlanta"
          ],
          [
           "Austin"
          ],
          [
           "Baltimore"
          ],
          [
           "Belleville"
          ],
          [
           "Bend"
          ],
          [
           "Berkeley"
          ],
          [
           "Berlin"
          ],
          [
           "Birmingham"
          ],
          [
           "Boise"
          ],
          [
           "Boston"
          ],
          [
           "Boulder"
          ],
          [
           "Burlingame"
          ],
          [
           "Burlington"
          ],
          [
           "Camarillo"
          ],
          [
           "Campbell"
          ],
          [
           "Cedar Falls"
          ],
          [
           "Charleston"
          ],
          [
           "Chattanooga"
          ],
          [
           "Chicago"
          ],
          [
           "Cincinnati"
          ],
          [
           "Columbus"
          ],
          [
           "Coral Gables"
          ],
          [
           "Corvallis"
          ],
          [
           "Cupertino"
          ],
          [
           "Dallas"
          ],
          [
           "Denver"
          ],
          [
           "Detroit"
          ],
          [
           "Dover"
          ],
          [
           "Dublin"
          ],
          [
           "Durham"
          ],
          [
           "Forster City"
          ],
          [
           "Fort Collins"
          ],
          [
           "Foster City"
          ],
          [
           "Fremont"
          ],
          [
           "Fresno"
          ],
          [
           "Gilroy"
          ],
          [
           "Grand Rapids"
          ],
          [
           "Greenwood Village"
          ],
          [
           "Hartford"
          ],
          [
           "Hayward"
          ],
          [
           "Holmdel"
          ],
          [
           "Huntington Beach"
          ],
          [
           "Indianapolis"
          ],
          [
           "Kansas City"
          ],
          [
           "Las Vegas"
          ],
          [
           "Lehi"
          ],
          [
           "Little Rock"
          ],
          [
           "Livermore"
          ],
          [
           "Logan"
          ],
          [
           "London"
          ],
          [
           "Los Altos"
          ],
          [
           "Los Angeles"
          ],
          [
           "Los Gatos"
          ],
          [
           "Louisville"
          ],
          [
           "Madison"
          ],
          [
           "Memphis"
          ],
          [
           "Menlo Park"
          ],
          [
           "Miami"
          ],
          [
           "Milpitas"
          ],
          [
           "Milwaukee"
          ],
          [
           "Minneapolis"
          ],
          [
           "Missoula"
          ],
          [
           "Mountain View"
          ],
          [
           "Nashua"
          ],
          [
           "Nashville"
          ],
          [
           "Nebraska City"
          ],
          [
           "New York City"
          ],
          [
           "Newark"
          ],
          [
           "North Bethesda"
          ],
          [
           "Norwalk"
          ],
          [
           "Oakland"
          ],
          [
           "Orlando"
          ],
          [
           "Oxford"
          ],
          [
           "Palo Alto"
          ],
          [
           "Philadelphia"
          ],
          [
           "Phoenix"
          ],
          [
           "Pittsburgh"
          ],
          [
           "Pleasanton"
          ],
          [
           "Portland"
          ],
          [
           "Raleigh"
          ],
          [
           "Redwood City"
          ],
          [
           "Reno"
          ],
          [
           "Richmond"
          ],
          [
           "Sacramento"
          ],
          [
           "Salt Lake City"
          ],
          [
           "San Bruno"
          ],
          [
           "San Carlos"
          ],
          [
           "San Diego"
          ],
          [
           "San Francisco"
          ],
          [
           "San Jose"
          ],
          [
           "San Leandro"
          ],
          [
           "San Luis Obispo"
          ],
          [
           "San Mateo"
          ],
          [
           "San Rafael"
          ],
          [
           "San Ramon"
          ],
          [
           "Santa Barbara"
          ],
          [
           "Santa Clara"
          ],
          [
           "Santa Fe"
          ],
          [
           "Seattle"
          ],
          [
           "Sheffield"
          ],
          [
           "Spokane"
          ],
          [
           "Stamford"
          ],
          [
           "Sunnyvale"
          ],
          [
           "Tampa"
          ],
          [
           "Tampa Bay"
          ],
          [
           "Toronto"
          ],
          [
           "Vancouver"
          ],
          [
           "Walnut"
          ],
          [
           "Walnut Creek"
          ],
          [
           "Waltham"
          ],
          [
           "Washington DC"
          ],
          [
           "Wilmington"
          ]
         ],
         "domain": {
          "x": [
           0,
           1
          ],
          "y": [
           0,
           1
          ]
         },
         "hovertemplate": "labels=%{label}<br>size=%{value}<br>parent=%{parent}<br>id=%{id}<br>Location_HQ=%{customdata[0]}<extra></extra>",
         "ids": [
          "USA",
          "USA/Agoura Hills",
          "USA/Alameda",
          "USA/Ann Arbor",
          "USA/Atlanta",
          "USA/Austin",
          "USA/Baltimore",
          "USA/Belleville",
          "USA/Bend",
          "USA/Berkeley",
          "USA/Berlin",
          "USA/Birmingham",
          "USA/Boise",
          "USA/Boston",
          "USA/Boulder",
          "USA/Burlingame",
          "USA/Burlington",
          "USA/Camarillo",
          "USA/Campbell",
          "USA/Cedar Falls",
          "USA/Charleston",
          "USA/Chattanooga",
          "USA/Chicago",
          "USA/Cincinnati",
          "USA/Columbus",
          "USA/Coral Gables",
          "USA/Corvallis",
          "USA/Cupertino",
          "USA/Dallas",
          "USA/Denver",
          "USA/Detroit",
          "USA/Dover",
          "USA/Dublin",
          "USA/Durham",
          "USA/Forster City",
          "USA/Fort Collins",
          "USA/Foster City",
          "USA/Fremont",
          "USA/Fresno",
          "USA/Gilroy",
          "USA/Grand Rapids",
          "USA/Greenwood Village",
          "USA/Hartford",
          "USA/Hayward",
          "USA/Holmdel",
          "USA/Huntington Beach",
          "USA/Indianapolis",
          "USA/Kansas City",
          "USA/Las Vegas",
          "USA/Lehi",
          "USA/Little Rock",
          "USA/Livermore",
          "USA/Logan",
          "USA/London",
          "USA/Los Altos",
          "USA/Los Angeles",
          "USA/Los Gatos",
          "USA/Louisville",
          "USA/Madison",
          "USA/Memphis",
          "USA/Menlo Park",
          "USA/Miami",
          "USA/Milpitas",
          "USA/Milwaukee",
          "USA/Minneapolis",
          "USA/Missoula",
          "USA/Mountain View",
          "USA/Nashua",
          "USA/Nashville",
          "USA/Nebraska City",
          "USA/New York City",
          "USA/Newark",
          "USA/North Bethesda",
          "USA/Norwalk",
          "USA/Oakland",
          "USA/Orlando",
          "USA/Oxford",
          "USA/Palo Alto",
          "USA/Philadelphia",
          "USA/Phoenix",
          "USA/Pittsburgh",
          "USA/Pleasanton",
          "USA/Portland",
          "USA/Raleigh",
          "USA/Redwood City",
          "USA/Reno",
          "USA/Richmond",
          "USA/Sacramento",
          "USA/Salt Lake City",
          "USA/San Bruno",
          "USA/San Carlos",
          "USA/San Diego",
          "USA/San Francisco",
          "USA/San Jose",
          "USA/San Leandro",
          "USA/San Luis Obispo",
          "USA/San Mateo",
          "USA/San Rafael",
          "USA/San Ramon",
          "USA/Santa Barbara",
          "USA/Santa Clara",
          "USA/Santa Fe",
          "USA/Seattle",
          "USA/Sheffield",
          "USA/Spokane",
          "USA/Stamford",
          "USA/Sunnyvale",
          "USA/Tampa",
          "USA/Tampa Bay",
          "USA/Toronto",
          "USA/Vancouver",
          "USA/Walnut",
          "USA/Walnut Creek",
          "USA/Waltham",
          "USA/Washington DC",
          "USA/Wilmington"
         ],
         "labels": [
          "USA",
          "Agoura Hills",
          "Alameda",
          "Ann Arbor",
          "Atlanta",
          "Austin",
          "Baltimore",
          "Belleville",
          "Bend",
          "Berkeley",
          "Berlin",
          "Birmingham",
          "Boise",
          "Boston",
          "Boulder",
          "Burlingame",
          "Burlington",
          "Camarillo",
          "Campbell",
          "Cedar Falls",
          "Charleston",
          "Chattanooga",
          "Chicago",
          "Cincinnati",
          "Columbus",
          "Coral Gables",
          "Corvallis",
          "Cupertino",
          "Dallas",
          "Denver",
          "Detroit",
          "Dover",
          "Dublin",
          "Durham",
          "Forster City",
          "Fort Collins",
          "Foster City",
          "Fremont",
          "Fresno",
          "Gilroy",
          "Grand Rapids",
          "Greenwood Village",
          "Hartford",
          "Hayward",
          "Holmdel",
          "Huntington Beach",
          "Indianapolis",
          "Kansas City",
          "Las Vegas",
          "Lehi",
          "Little Rock",
          "Livermore",
          "Logan",
          "London",
          "Los Altos",
          "Los Angeles",
          "Los Gatos",
          "Louisville",
          "Madison",
          "Memphis",
          "Menlo Park",
          "Miami",
          "Milpitas",
          "Milwaukee",
          "Minneapolis",
          "Missoula",
          "Mountain View",
          "Nashua",
          "Nashville",
          "Nebraska City",
          "New York City",
          "Newark",
          "North Bethesda",
          "Norwalk",
          "Oakland",
          "Orlando",
          "Oxford",
          "Palo Alto",
          "Philadelphia",
          "Phoenix",
          "Pittsburgh",
          "Pleasanton",
          "Portland",
          "Raleigh",
          "Redwood City",
          "Reno",
          "Richmond",
          "Sacramento",
          "Salt Lake City",
          "San Bruno",
          "San Carlos",
          "San Diego",
          "San Francisco",
          "San Jose",
          "San Leandro",
          "San Luis Obispo",
          "San Mateo",
          "San Rafael",
          "San Ramon",
          "Santa Barbara",
          "Santa Clara",
          "Santa Fe",
          "Seattle",
          "Sheffield",
          "Spokane",
          "Stamford",
          "Sunnyvale",
          "Tampa",
          "Tampa Bay",
          "Toronto",
          "Vancouver",
          "Walnut",
          "Walnut Creek",
          "Waltham",
          "Washington DC",
          "Wilmington"
         ],
         "marker": {
          "colors": [
           "#636efa",
           "#EF553B",
           "#00cc96",
           "#ab63fa",
           "#FFA15A",
           "#19d3f3",
           "#FF6692",
           "#B6E880",
           "#FF97FF",
           "#FECB52",
           "#636efa",
           "#EF553B",
           "#00cc96",
           "#ab63fa",
           "#FFA15A",
           "#19d3f3",
           "#FF6692",
           "#B6E880",
           "#FF97FF",
           "#FECB52",
           "#636efa",
           "#EF553B",
           "#00cc96",
           "#ab63fa",
           "#FFA15A",
           "#19d3f3",
           "#FF6692",
           "#B6E880",
           "#FF97FF",
           "#FECB52",
           "#636efa",
           "#EF553B",
           "#00cc96",
           "#ab63fa",
           "#FFA15A",
           "#19d3f3",
           "#FF6692",
           "#B6E880",
           "#FF97FF",
           "#FECB52",
           "#636efa",
           "#EF553B",
           "#00cc96",
           "#ab63fa",
           "#FFA15A",
           "#19d3f3",
           "#FF6692",
           "#B6E880",
           "#FF97FF",
           "#FECB52",
           "#636efa",
           "#EF553B",
           "#00cc96",
           "#ab63fa",
           "#FFA15A",
           "#19d3f3",
           "#FF6692",
           "#B6E880",
           "#FF97FF",
           "#FECB52",
           "#636efa",
           "#EF553B",
           "#00cc96",
           "#ab63fa",
           "#FFA15A",
           "#19d3f3",
           "#FF6692",
           "#B6E880",
           "#FF97FF",
           "#FECB52",
           "#636efa",
           "#EF553B",
           "#00cc96",
           "#ab63fa",
           "#FFA15A",
           "#19d3f3",
           "#FF6692",
           "#B6E880",
           "#FF97FF",
           "#FECB52",
           "#636efa",
           "#EF553B",
           "#00cc96",
           "#ab63fa",
           "#FFA15A",
           "#19d3f3",
           "#FF6692",
           "#B6E880",
           "#FF97FF",
           "#FECB52",
           "#636efa",
           "#EF553B",
           "#00cc96",
           "#ab63fa",
           "#FFA15A",
           "#19d3f3",
           "#FF6692",
           "#B6E880",
           "#FF97FF",
           "#FECB52",
           "#636efa",
           "#EF553B",
           "#00cc96",
           "#ab63fa",
           "#FFA15A",
           "#19d3f3",
           "#FF6692",
           "#B6E880",
           "#FF97FF",
           "#FECB52",
           "#636efa",
           "#EF553B",
           "#00cc96",
           "#ab63fa",
           "#FFA15A",
           "#19d3f3"
          ]
         },
         "name": "",
         "parents": [
          "",
          "USA",
          "USA",
          "USA",
          "USA",
          "USA",
          "USA",
          "USA",
          "USA",
          "USA",
          "USA",
          "USA",
          "USA",
          "USA",
          "USA",
          "USA",
          "USA",
          "USA",
          "USA",
          "USA",
          "USA",
          "USA",
          "USA",
          "USA",
          "USA",
          "USA",
          "USA",
          "USA",
          "USA",
          "USA",
          "USA",
          "USA",
          "USA",
          "USA",
          "USA",
          "USA",
          "USA",
          "USA",
          "USA",
          "USA",
          "USA",
          "USA",
          "USA",
          "USA",
          "USA",
          "USA",
          "USA",
          "USA",
          "USA",
          "USA",
          "USA",
          "USA",
          "USA",
          "USA",
          "USA",
          "USA",
          "USA",
          "USA",
          "USA",
          "USA",
          "USA",
          "USA",
          "USA",
          "USA",
          "USA",
          "USA",
          "USA",
          "USA",
          "USA",
          "USA",
          "USA",
          "USA",
          "USA",
          "USA",
          "USA",
          "USA",
          "USA",
          "USA",
          "USA",
          "USA",
          "USA",
          "USA",
          "USA",
          "USA",
          "USA",
          "USA",
          "USA",
          "USA",
          "USA",
          "USA",
          "USA",
          "USA",
          "USA",
          "USA",
          "USA",
          "USA",
          "USA",
          "USA",
          "USA",
          "USA",
          "USA",
          "USA",
          "USA",
          "USA",
          "USA",
          "USA",
          "USA",
          "USA",
          "USA",
          "USA",
          "USA",
          "USA",
          "USA",
          "USA",
          "USA",
          "USA"
         ],
         "textinfo": "label+percent parent",
         "type": "treemap",
         "values": {
          "bdata": "AAAAAADclkAAAAAAAADwPwAAAAAAAPA/AAAAAAAAAEAAAAAAAAAsQAAAAAAAAEJAAAAAAAAAEEAAAAAAAADwPwAAAAAAAPA/AAAAAAAAHEAAAAAAAADwPwAAAAAAAPA/AAAAAAAACEAAAAAAAEBXQAAAAAAAACJAAAAAAAAAAEAAAAAAAADwPwAAAAAAAPA/AAAAAAAAFEAAAAAAAADwPwAAAAAAAPA/AAAAAAAA8D8AAAAAAIBBQAAAAAAAABBAAAAAAAAAJEAAAAAAAADwPwAAAAAAAPA/AAAAAAAACEAAAAAAAAAcQAAAAAAAADJAAAAAAAAAIEAAAAAAAAAAQAAAAAAAAABAAAAAAAAACEAAAAAAAADwPwAAAAAAAPA/AAAAAAAA8D8AAAAAAAAUQAAAAAAAAPA/AAAAAAAA8D8AAAAAAADwPwAAAAAAAPA/AAAAAAAA8D8AAAAAAAAIQAAAAAAAAPA/AAAAAAAACEAAAAAAAADwPwAAAAAAABBAAAAAAAAA8D8AAAAAAAAAQAAAAAAAAPA/AAAAAAAA8D8AAAAAAADwPwAAAAAAAPA/AAAAAAAA8D8AAAAAAIBUQAAAAAAAAABAAAAAAAAAAEAAAAAAAAAAQAAAAAAAAPA/AAAAAAAAMkAAAAAAAAAkQAAAAAAAAABAAAAAAAAAAEAAAAAAAAAYQAAAAAAAAPA/AAAAAAAAP0AAAAAAAADwPwAAAAAAAAhAAAAAAAAA8D8AAAAAAGBuQAAAAAAAAABAAAAAAAAAAEAAAAAAAAAQQAAAAAAAABBAAAAAAAAACEAAAAAAAADwPwAAAAAAAENAAAAAAAAAJEAAAAAAAAAgQAAAAAAAACBAAAAAAAAAFEAAAAAAAAAxQAAAAAAAABBAAAAAAAAALkAAAAAAAAAAQAAAAAAAAAhAAAAAAAAAHEAAAAAAAAAsQAAAAAAAAABAAAAAAAAACEAAAAAAAAAzQAAAAAAAYHZAAAAAAAAAN0AAAAAAAADwPwAAAAAAAABAAAAAAAAAKEAAAAAAAADwPwAAAAAAAABAAAAAAAAAEEAAAAAAAAA1QAAAAAAAAPA/AAAAAACAWUAAAAAAAADwPwAAAAAAAABAAAAAAAAACEAAAAAAAAAkQAAAAAAAAPA/AAAAAAAACEAAAAAAAADwPwAAAAAAAABAAAAAAAAACEAAAAAAAADwPwAAAAAAAPA/AAAAAAAALkAAAAAAAAAAQA==",
          "dtype": "f8"
         }
        }
       ],
       "layout": {
        "height": 800,
        "legend": {
         "tracegroupgap": 0
        },
        "margin": {
         "t": 60
        },
        "template": {
         "data": {
          "bar": [
           {
            "error_x": {
             "color": "#2a3f5f"
            },
            "error_y": {
             "color": "#2a3f5f"
            },
            "marker": {
             "line": {
              "color": "#E5ECF6",
              "width": 0.5
             },
             "pattern": {
              "fillmode": "overlay",
              "size": 10,
              "solidity": 0.2
             }
            },
            "type": "bar"
           }
          ],
          "barpolar": [
           {
            "marker": {
             "line": {
              "color": "#E5ECF6",
              "width": 0.5
             },
             "pattern": {
              "fillmode": "overlay",
              "size": 10,
              "solidity": 0.2
             }
            },
            "type": "barpolar"
           }
          ],
          "carpet": [
           {
            "aaxis": {
             "endlinecolor": "#2a3f5f",
             "gridcolor": "white",
             "linecolor": "white",
             "minorgridcolor": "white",
             "startlinecolor": "#2a3f5f"
            },
            "baxis": {
             "endlinecolor": "#2a3f5f",
             "gridcolor": "white",
             "linecolor": "white",
             "minorgridcolor": "white",
             "startlinecolor": "#2a3f5f"
            },
            "type": "carpet"
           }
          ],
          "choropleth": [
           {
            "colorbar": {
             "outlinewidth": 0,
             "ticks": ""
            },
            "type": "choropleth"
           }
          ],
          "contour": [
           {
            "colorbar": {
             "outlinewidth": 0,
             "ticks": ""
            },
            "colorscale": [
             [
              0,
              "#0d0887"
             ],
             [
              0.1111111111111111,
              "#46039f"
             ],
             [
              0.2222222222222222,
              "#7201a8"
             ],
             [
              0.3333333333333333,
              "#9c179e"
             ],
             [
              0.4444444444444444,
              "#bd3786"
             ],
             [
              0.5555555555555556,
              "#d8576b"
             ],
             [
              0.6666666666666666,
              "#ed7953"
             ],
             [
              0.7777777777777778,
              "#fb9f3a"
             ],
             [
              0.8888888888888888,
              "#fdca26"
             ],
             [
              1,
              "#f0f921"
             ]
            ],
            "type": "contour"
           }
          ],
          "contourcarpet": [
           {
            "colorbar": {
             "outlinewidth": 0,
             "ticks": ""
            },
            "type": "contourcarpet"
           }
          ],
          "heatmap": [
           {
            "colorbar": {
             "outlinewidth": 0,
             "ticks": ""
            },
            "colorscale": [
             [
              0,
              "#0d0887"
             ],
             [
              0.1111111111111111,
              "#46039f"
             ],
             [
              0.2222222222222222,
              "#7201a8"
             ],
             [
              0.3333333333333333,
              "#9c179e"
             ],
             [
              0.4444444444444444,
              "#bd3786"
             ],
             [
              0.5555555555555556,
              "#d8576b"
             ],
             [
              0.6666666666666666,
              "#ed7953"
             ],
             [
              0.7777777777777778,
              "#fb9f3a"
             ],
             [
              0.8888888888888888,
              "#fdca26"
             ],
             [
              1,
              "#f0f921"
             ]
            ],
            "type": "heatmap"
           }
          ],
          "histogram": [
           {
            "marker": {
             "pattern": {
              "fillmode": "overlay",
              "size": 10,
              "solidity": 0.2
             }
            },
            "type": "histogram"
           }
          ],
          "histogram2d": [
           {
            "colorbar": {
             "outlinewidth": 0,
             "ticks": ""
            },
            "colorscale": [
             [
              0,
              "#0d0887"
             ],
             [
              0.1111111111111111,
              "#46039f"
             ],
             [
              0.2222222222222222,
              "#7201a8"
             ],
             [
              0.3333333333333333,
              "#9c179e"
             ],
             [
              0.4444444444444444,
              "#bd3786"
             ],
             [
              0.5555555555555556,
              "#d8576b"
             ],
             [
              0.6666666666666666,
              "#ed7953"
             ],
             [
              0.7777777777777778,
              "#fb9f3a"
             ],
             [
              0.8888888888888888,
              "#fdca26"
             ],
             [
              1,
              "#f0f921"
             ]
            ],
            "type": "histogram2d"
           }
          ],
          "histogram2dcontour": [
           {
            "colorbar": {
             "outlinewidth": 0,
             "ticks": ""
            },
            "colorscale": [
             [
              0,
              "#0d0887"
             ],
             [
              0.1111111111111111,
              "#46039f"
             ],
             [
              0.2222222222222222,
              "#7201a8"
             ],
             [
              0.3333333333333333,
              "#9c179e"
             ],
             [
              0.4444444444444444,
              "#bd3786"
             ],
             [
              0.5555555555555556,
              "#d8576b"
             ],
             [
              0.6666666666666666,
              "#ed7953"
             ],
             [
              0.7777777777777778,
              "#fb9f3a"
             ],
             [
              0.8888888888888888,
              "#fdca26"
             ],
             [
              1,
              "#f0f921"
             ]
            ],
            "type": "histogram2dcontour"
           }
          ],
          "mesh3d": [
           {
            "colorbar": {
             "outlinewidth": 0,
             "ticks": ""
            },
            "type": "mesh3d"
           }
          ],
          "parcoords": [
           {
            "line": {
             "colorbar": {
              "outlinewidth": 0,
              "ticks": ""
             }
            },
            "type": "parcoords"
           }
          ],
          "pie": [
           {
            "automargin": true,
            "type": "pie"
           }
          ],
          "scatter": [
           {
            "fillpattern": {
             "fillmode": "overlay",
             "size": 10,
             "solidity": 0.2
            },
            "type": "scatter"
           }
          ],
          "scatter3d": [
           {
            "line": {
             "colorbar": {
              "outlinewidth": 0,
              "ticks": ""
             }
            },
            "marker": {
             "colorbar": {
              "outlinewidth": 0,
              "ticks": ""
             }
            },
            "type": "scatter3d"
           }
          ],
          "scattercarpet": [
           {
            "marker": {
             "colorbar": {
              "outlinewidth": 0,
              "ticks": ""
             }
            },
            "type": "scattercarpet"
           }
          ],
          "scattergeo": [
           {
            "marker": {
             "colorbar": {
              "outlinewidth": 0,
              "ticks": ""
             }
            },
            "type": "scattergeo"
           }
          ],
          "scattergl": [
           {
            "marker": {
             "colorbar": {
              "outlinewidth": 0,
              "ticks": ""
             }
            },
            "type": "scattergl"
           }
          ],
          "scattermap": [
           {
            "marker": {
             "colorbar": {
              "outlinewidth": 0,
              "ticks": ""
             }
            },
            "type": "scattermap"
           }
          ],
          "scattermapbox": [
           {
            "marker": {
             "colorbar": {
              "outlinewidth": 0,
              "ticks": ""
             }
            },
            "type": "scattermapbox"
           }
          ],
          "scatterpolar": [
           {
            "marker": {
             "colorbar": {
              "outlinewidth": 0,
              "ticks": ""
             }
            },
            "type": "scatterpolar"
           }
          ],
          "scatterpolargl": [
           {
            "marker": {
             "colorbar": {
              "outlinewidth": 0,
              "ticks": ""
             }
            },
            "type": "scatterpolargl"
           }
          ],
          "scatterternary": [
           {
            "marker": {
             "colorbar": {
              "outlinewidth": 0,
              "ticks": ""
             }
            },
            "type": "scatterternary"
           }
          ],
          "surface": [
           {
            "colorbar": {
             "outlinewidth": 0,
             "ticks": ""
            },
            "colorscale": [
             [
              0,
              "#0d0887"
             ],
             [
              0.1111111111111111,
              "#46039f"
             ],
             [
              0.2222222222222222,
              "#7201a8"
             ],
             [
              0.3333333333333333,
              "#9c179e"
             ],
             [
              0.4444444444444444,
              "#bd3786"
             ],
             [
              0.5555555555555556,
              "#d8576b"
             ],
             [
              0.6666666666666666,
              "#ed7953"
             ],
             [
              0.7777777777777778,
              "#fb9f3a"
             ],
             [
              0.8888888888888888,
              "#fdca26"
             ],
             [
              1,
              "#f0f921"
             ]
            ],
            "type": "surface"
           }
          ],
          "table": [
           {
            "cells": {
             "fill": {
              "color": "#EBF0F8"
             },
             "line": {
              "color": "white"
             }
            },
            "header": {
             "fill": {
              "color": "#C8D4E3"
             },
             "line": {
              "color": "white"
             }
            },
            "type": "table"
           }
          ]
         },
         "layout": {
          "annotationdefaults": {
           "arrowcolor": "#2a3f5f",
           "arrowhead": 0,
           "arrowwidth": 1
          },
          "autotypenumbers": "strict",
          "coloraxis": {
           "colorbar": {
            "outlinewidth": 0,
            "ticks": ""
           }
          },
          "colorscale": {
           "diverging": [
            [
             0,
             "#8e0152"
            ],
            [
             0.1,
             "#c51b7d"
            ],
            [
             0.2,
             "#de77ae"
            ],
            [
             0.3,
             "#f1b6da"
            ],
            [
             0.4,
             "#fde0ef"
            ],
            [
             0.5,
             "#f7f7f7"
            ],
            [
             0.6,
             "#e6f5d0"
            ],
            [
             0.7,
             "#b8e186"
            ],
            [
             0.8,
             "#7fbc41"
            ],
            [
             0.9,
             "#4d9221"
            ],
            [
             1,
             "#276419"
            ]
           ],
           "sequential": [
            [
             0,
             "#0d0887"
            ],
            [
             0.1111111111111111,
             "#46039f"
            ],
            [
             0.2222222222222222,
             "#7201a8"
            ],
            [
             0.3333333333333333,
             "#9c179e"
            ],
            [
             0.4444444444444444,
             "#bd3786"
            ],
            [
             0.5555555555555556,
             "#d8576b"
            ],
            [
             0.6666666666666666,
             "#ed7953"
            ],
            [
             0.7777777777777778,
             "#fb9f3a"
            ],
            [
             0.8888888888888888,
             "#fdca26"
            ],
            [
             1,
             "#f0f921"
            ]
           ],
           "sequentialminus": [
            [
             0,
             "#0d0887"
            ],
            [
             0.1111111111111111,
             "#46039f"
            ],
            [
             0.2222222222222222,
             "#7201a8"
            ],
            [
             0.3333333333333333,
             "#9c179e"
            ],
            [
             0.4444444444444444,
             "#bd3786"
            ],
            [
             0.5555555555555556,
             "#d8576b"
            ],
            [
             0.6666666666666666,
             "#ed7953"
            ],
            [
             0.7777777777777778,
             "#fb9f3a"
            ],
            [
             0.8888888888888888,
             "#fdca26"
            ],
            [
             1,
             "#f0f921"
            ]
           ]
          },
          "colorway": [
           "#636efa",
           "#EF553B",
           "#00cc96",
           "#ab63fa",
           "#FFA15A",
           "#19d3f3",
           "#FF6692",
           "#B6E880",
           "#FF97FF",
           "#FECB52"
          ],
          "font": {
           "color": "#2a3f5f"
          },
          "geo": {
           "bgcolor": "white",
           "lakecolor": "white",
           "landcolor": "#E5ECF6",
           "showlakes": true,
           "showland": true,
           "subunitcolor": "white"
          },
          "hoverlabel": {
           "align": "left"
          },
          "hovermode": "closest",
          "mapbox": {
           "style": "light"
          },
          "paper_bgcolor": "white",
          "plot_bgcolor": "#E5ECF6",
          "polar": {
           "angularaxis": {
            "gridcolor": "white",
            "linecolor": "white",
            "ticks": ""
           },
           "bgcolor": "#E5ECF6",
           "radialaxis": {
            "gridcolor": "white",
            "linecolor": "white",
            "ticks": ""
           }
          },
          "scene": {
           "xaxis": {
            "backgroundcolor": "#E5ECF6",
            "gridcolor": "white",
            "gridwidth": 2,
            "linecolor": "white",
            "showbackground": true,
            "ticks": "",
            "zerolinecolor": "white"
           },
           "yaxis": {
            "backgroundcolor": "#E5ECF6",
            "gridcolor": "white",
            "gridwidth": 2,
            "linecolor": "white",
            "showbackground": true,
            "ticks": "",
            "zerolinecolor": "white"
           },
           "zaxis": {
            "backgroundcolor": "#E5ECF6",
            "gridcolor": "white",
            "gridwidth": 2,
            "linecolor": "white",
            "showbackground": true,
            "ticks": "",
            "zerolinecolor": "white"
           }
          },
          "shapedefaults": {
           "line": {
            "color": "#2a3f5f"
           }
          },
          "ternary": {
           "aaxis": {
            "gridcolor": "white",
            "linecolor": "white",
            "ticks": ""
           },
           "baxis": {
            "gridcolor": "white",
            "linecolor": "white",
            "ticks": ""
           },
           "bgcolor": "#E5ECF6",
           "caxis": {
            "gridcolor": "white",
            "linecolor": "white",
            "ticks": ""
           }
          },
          "title": {
           "x": 0.05
          },
          "xaxis": {
           "automargin": true,
           "gridcolor": "white",
           "linecolor": "white",
           "ticks": "",
           "title": {
            "standoff": 15
           },
           "zerolinecolor": "white",
           "zerolinewidth": 2
          },
          "yaxis": {
           "automargin": true,
           "gridcolor": "white",
           "linecolor": "white",
           "ticks": "",
           "title": {
            "standoff": 15
           },
           "zerolinecolor": "white",
           "zerolinewidth": 2
          }
         }
        },
        "width": 1280
       }
      }
     },
     "metadata": {},
     "output_type": "display_data"
    }
   ],
   "source": [
    "import pandas as pd\n",
    "import plotly.express as px\n",
    "\n",
    "# Filter the DataFrame for rows where Country is USA\n",
    "usa_df = gr_cat[gr_cat['Country'] == 'USA']\n",
    "\n",
    "# Create the treemap using the filtered DataFrame\n",
    "fig = px.treemap(usa_df, width=1280, height=800,\n",
    "                 path=[\"Country\", \"Location_HQ\"], values='size',\n",
    "                 color='Location_HQ')\n",
    "fig.update_traces(textinfo=\"label+percent parent\")\n",
    "fig.show()"
   ]
  },
  {
   "cell_type": "markdown",
   "metadata": {},
   "source": [
    "Let's use more filter functions for the treemap chart.\n",
    "\n",
    "Filter is now the column state with the entry California."
   ]
  },
  {
   "cell_type": "code",
   "execution_count": 10,
   "metadata": {
    "execution": {
     "iopub.execute_input": "2024-07-08T17:37:25.617541Z",
     "iopub.status.busy": "2024-07-08T17:37:25.617111Z",
     "iopub.status.idle": "2024-07-08T17:37:25.721123Z",
     "shell.execute_reply": "2024-07-08T17:37:25.720009Z",
     "shell.execute_reply.started": "2024-07-08T17:37:25.617506Z"
    },
    "trusted": true
   },
   "outputs": [
    {
     "data": {
      "application/vnd.plotly.v1+json": {
       "config": {
        "plotlyServerURL": "https://plot.ly"
       },
       "data": [
        {
         "branchvalues": "total",
         "customdata": [
          [
           "(?)"
          ],
          [
           "Agoura Hills"
          ],
          [
           "Alameda"
          ],
          [
           "Berkeley"
          ],
          [
           "Burlingame"
          ],
          [
           "Camarillo"
          ],
          [
           "Campbell"
          ],
          [
           "Cupertino"
          ],
          [
           "Forster City"
          ],
          [
           "Foster City"
          ],
          [
           "Fremont"
          ],
          [
           "Fresno"
          ],
          [
           "Gilroy"
          ],
          [
           "Hayward"
          ],
          [
           "Huntington Beach"
          ],
          [
           "Livermore"
          ],
          [
           "Los Altos"
          ],
          [
           "Los Angeles"
          ],
          [
           "Los Gatos"
          ],
          [
           "Menlo Park"
          ],
          [
           "Milpitas"
          ],
          [
           "Mountain View"
          ],
          [
           "Newark"
          ],
          [
           "North Bethesda"
          ],
          [
           "Oakland"
          ],
          [
           "Palo Alto"
          ],
          [
           "Pleasanton"
          ],
          [
           "Redwood City"
          ],
          [
           "Richmond"
          ],
          [
           "Sacramento"
          ],
          [
           "San Bruno"
          ],
          [
           "San Carlos"
          ],
          [
           "San Diego"
          ],
          [
           "San Francisco"
          ],
          [
           "San Jose"
          ],
          [
           "San Leandro"
          ],
          [
           "San Luis Obispo"
          ],
          [
           "San Mateo"
          ],
          [
           "San Rafael"
          ],
          [
           "San Ramon"
          ],
          [
           "Santa Barbara"
          ],
          [
           "Santa Clara"
          ],
          [
           "Sunnyvale"
          ],
          [
           "Walnut"
          ],
          [
           "Walnut Creek"
          ]
         ],
         "domain": {
          "x": [
           0,
           1
          ],
          "y": [
           0,
           1
          ]
         },
         "hovertemplate": "labels=%{label}<br>size=%{value}<br>parent=%{parent}<br>id=%{id}<br>Location_HQ=%{customdata[0]}<extra></extra>",
         "ids": [
          "California",
          "California/Agoura Hills",
          "California/Alameda",
          "California/Berkeley",
          "California/Burlingame",
          "California/Camarillo",
          "California/Campbell",
          "California/Cupertino",
          "California/Forster City",
          "California/Foster City",
          "California/Fremont",
          "California/Fresno",
          "California/Gilroy",
          "California/Hayward",
          "California/Huntington Beach",
          "California/Livermore",
          "California/Los Altos",
          "California/Los Angeles",
          "California/Los Gatos",
          "California/Menlo Park",
          "California/Milpitas",
          "California/Mountain View",
          "California/Newark",
          "California/North Bethesda",
          "California/Oakland",
          "California/Palo Alto",
          "California/Pleasanton",
          "California/Redwood City",
          "California/Richmond",
          "California/Sacramento",
          "California/San Bruno",
          "California/San Carlos",
          "California/San Diego",
          "California/San Francisco",
          "California/San Jose",
          "California/San Leandro",
          "California/San Luis Obispo",
          "California/San Mateo",
          "California/San Rafael",
          "California/San Ramon",
          "California/Santa Barbara",
          "California/Santa Clara",
          "California/Sunnyvale",
          "California/Walnut",
          "California/Walnut Creek"
         ],
         "labels": [
          "California",
          "Agoura Hills",
          "Alameda",
          "Berkeley",
          "Burlingame",
          "Camarillo",
          "Campbell",
          "Cupertino",
          "Forster City",
          "Foster City",
          "Fremont",
          "Fresno",
          "Gilroy",
          "Hayward",
          "Huntington Beach",
          "Livermore",
          "Los Altos",
          "Los Angeles",
          "Los Gatos",
          "Menlo Park",
          "Milpitas",
          "Mountain View",
          "Newark",
          "North Bethesda",
          "Oakland",
          "Palo Alto",
          "Pleasanton",
          "Redwood City",
          "Richmond",
          "Sacramento",
          "San Bruno",
          "San Carlos",
          "San Diego",
          "San Francisco",
          "San Jose",
          "San Leandro",
          "San Luis Obispo",
          "San Mateo",
          "San Rafael",
          "San Ramon",
          "Santa Barbara",
          "Santa Clara",
          "Sunnyvale",
          "Walnut",
          "Walnut Creek"
         ],
         "marker": {
          "colors": [
           "#636efa",
           "#EF553B",
           "#00cc96",
           "#ab63fa",
           "#FFA15A",
           "#19d3f3",
           "#FF6692",
           "#B6E880",
           "#FF97FF",
           "#FECB52",
           "#636efa",
           "#EF553B",
           "#00cc96",
           "#ab63fa",
           "#FFA15A",
           "#19d3f3",
           "#FF6692",
           "#B6E880",
           "#FF97FF",
           "#FECB52",
           "#636efa",
           "#EF553B",
           "#00cc96",
           "#ab63fa",
           "#FFA15A",
           "#19d3f3",
           "#FF6692",
           "#B6E880",
           "#FF97FF",
           "#FECB52",
           "#636efa",
           "#EF553B",
           "#00cc96",
           "#ab63fa",
           "#FFA15A",
           "#19d3f3",
           "#FF6692",
           "#B6E880",
           "#FF97FF",
           "#FECB52",
           "#636efa",
           "#EF553B",
           "#00cc96",
           "#ab63fa",
           "#FFA15A"
          ]
         },
         "name": "",
         "parents": [
          "",
          "California",
          "California",
          "California",
          "California",
          "California",
          "California",
          "California",
          "California",
          "California",
          "California",
          "California",
          "California",
          "California",
          "California",
          "California",
          "California",
          "California",
          "California",
          "California",
          "California",
          "California",
          "California",
          "California",
          "California",
          "California",
          "California",
          "California",
          "California",
          "California",
          "California",
          "California",
          "California",
          "California",
          "California",
          "California",
          "California",
          "California",
          "California",
          "California",
          "California",
          "California",
          "California",
          "California",
          "California"
         ],
         "textinfo": "label+percent parent",
         "type": "treemap",
         "values": {
          "bdata": "AAAAAAA4hkAAAAAAAADwPwAAAAAAAPA/AAAAAAAAHEAAAAAAAAAAQAAAAAAAAPA/AAAAAAAAFEAAAAAAAAAIQAAAAAAAAPA/AAAAAAAA8D8AAAAAAAAYQAAAAAAAAPA/AAAAAAAA8D8AAAAAAAAIQAAAAAAAAAhAAAAAAAAA8D8AAAAAAADwPwAAAAAAgFRAAAAAAAAAAEAAAAAAAAAyQAAAAAAAAABAAAAAAAAAP0AAAAAAAAAAQAAAAAAAAABAAAAAAAAAEEAAAAAAAABDQAAAAAAAABRAAAAAAAAALkAAAAAAAAAIQAAAAAAAABxAAAAAAAAAAEAAAAAAAAAIQAAAAAAAADNAAAAAAABgdkAAAAAAAAA3QAAAAAAAAPA/AAAAAAAAAEAAAAAAAAAoQAAAAAAAAPA/AAAAAAAAAEAAAAAAAAAQQAAAAAAAADVAAAAAAAAAJEAAAAAAAAAIQAAAAAAAAPA/",
          "dtype": "f8"
         }
        }
       ],
       "layout": {
        "height": 800,
        "legend": {
         "tracegroupgap": 0
        },
        "margin": {
         "t": 60
        },
        "template": {
         "data": {
          "bar": [
           {
            "error_x": {
             "color": "#2a3f5f"
            },
            "error_y": {
             "color": "#2a3f5f"
            },
            "marker": {
             "line": {
              "color": "#E5ECF6",
              "width": 0.5
             },
             "pattern": {
              "fillmode": "overlay",
              "size": 10,
              "solidity": 0.2
             }
            },
            "type": "bar"
           }
          ],
          "barpolar": [
           {
            "marker": {
             "line": {
              "color": "#E5ECF6",
              "width": 0.5
             },
             "pattern": {
              "fillmode": "overlay",
              "size": 10,
              "solidity": 0.2
             }
            },
            "type": "barpolar"
           }
          ],
          "carpet": [
           {
            "aaxis": {
             "endlinecolor": "#2a3f5f",
             "gridcolor": "white",
             "linecolor": "white",
             "minorgridcolor": "white",
             "startlinecolor": "#2a3f5f"
            },
            "baxis": {
             "endlinecolor": "#2a3f5f",
             "gridcolor": "white",
             "linecolor": "white",
             "minorgridcolor": "white",
             "startlinecolor": "#2a3f5f"
            },
            "type": "carpet"
           }
          ],
          "choropleth": [
           {
            "colorbar": {
             "outlinewidth": 0,
             "ticks": ""
            },
            "type": "choropleth"
           }
          ],
          "contour": [
           {
            "colorbar": {
             "outlinewidth": 0,
             "ticks": ""
            },
            "colorscale": [
             [
              0,
              "#0d0887"
             ],
             [
              0.1111111111111111,
              "#46039f"
             ],
             [
              0.2222222222222222,
              "#7201a8"
             ],
             [
              0.3333333333333333,
              "#9c179e"
             ],
             [
              0.4444444444444444,
              "#bd3786"
             ],
             [
              0.5555555555555556,
              "#d8576b"
             ],
             [
              0.6666666666666666,
              "#ed7953"
             ],
             [
              0.7777777777777778,
              "#fb9f3a"
             ],
             [
              0.8888888888888888,
              "#fdca26"
             ],
             [
              1,
              "#f0f921"
             ]
            ],
            "type": "contour"
           }
          ],
          "contourcarpet": [
           {
            "colorbar": {
             "outlinewidth": 0,
             "ticks": ""
            },
            "type": "contourcarpet"
           }
          ],
          "heatmap": [
           {
            "colorbar": {
             "outlinewidth": 0,
             "ticks": ""
            },
            "colorscale": [
             [
              0,
              "#0d0887"
             ],
             [
              0.1111111111111111,
              "#46039f"
             ],
             [
              0.2222222222222222,
              "#7201a8"
             ],
             [
              0.3333333333333333,
              "#9c179e"
             ],
             [
              0.4444444444444444,
              "#bd3786"
             ],
             [
              0.5555555555555556,
              "#d8576b"
             ],
             [
              0.6666666666666666,
              "#ed7953"
             ],
             [
              0.7777777777777778,
              "#fb9f3a"
             ],
             [
              0.8888888888888888,
              "#fdca26"
             ],
             [
              1,
              "#f0f921"
             ]
            ],
            "type": "heatmap"
           }
          ],
          "histogram": [
           {
            "marker": {
             "pattern": {
              "fillmode": "overlay",
              "size": 10,
              "solidity": 0.2
             }
            },
            "type": "histogram"
           }
          ],
          "histogram2d": [
           {
            "colorbar": {
             "outlinewidth": 0,
             "ticks": ""
            },
            "colorscale": [
             [
              0,
              "#0d0887"
             ],
             [
              0.1111111111111111,
              "#46039f"
             ],
             [
              0.2222222222222222,
              "#7201a8"
             ],
             [
              0.3333333333333333,
              "#9c179e"
             ],
             [
              0.4444444444444444,
              "#bd3786"
             ],
             [
              0.5555555555555556,
              "#d8576b"
             ],
             [
              0.6666666666666666,
              "#ed7953"
             ],
             [
              0.7777777777777778,
              "#fb9f3a"
             ],
             [
              0.8888888888888888,
              "#fdca26"
             ],
             [
              1,
              "#f0f921"
             ]
            ],
            "type": "histogram2d"
           }
          ],
          "histogram2dcontour": [
           {
            "colorbar": {
             "outlinewidth": 0,
             "ticks": ""
            },
            "colorscale": [
             [
              0,
              "#0d0887"
             ],
             [
              0.1111111111111111,
              "#46039f"
             ],
             [
              0.2222222222222222,
              "#7201a8"
             ],
             [
              0.3333333333333333,
              "#9c179e"
             ],
             [
              0.4444444444444444,
              "#bd3786"
             ],
             [
              0.5555555555555556,
              "#d8576b"
             ],
             [
              0.6666666666666666,
              "#ed7953"
             ],
             [
              0.7777777777777778,
              "#fb9f3a"
             ],
             [
              0.8888888888888888,
              "#fdca26"
             ],
             [
              1,
              "#f0f921"
             ]
            ],
            "type": "histogram2dcontour"
           }
          ],
          "mesh3d": [
           {
            "colorbar": {
             "outlinewidth": 0,
             "ticks": ""
            },
            "type": "mesh3d"
           }
          ],
          "parcoords": [
           {
            "line": {
             "colorbar": {
              "outlinewidth": 0,
              "ticks": ""
             }
            },
            "type": "parcoords"
           }
          ],
          "pie": [
           {
            "automargin": true,
            "type": "pie"
           }
          ],
          "scatter": [
           {
            "fillpattern": {
             "fillmode": "overlay",
             "size": 10,
             "solidity": 0.2
            },
            "type": "scatter"
           }
          ],
          "scatter3d": [
           {
            "line": {
             "colorbar": {
              "outlinewidth": 0,
              "ticks": ""
             }
            },
            "marker": {
             "colorbar": {
              "outlinewidth": 0,
              "ticks": ""
             }
            },
            "type": "scatter3d"
           }
          ],
          "scattercarpet": [
           {
            "marker": {
             "colorbar": {
              "outlinewidth": 0,
              "ticks": ""
             }
            },
            "type": "scattercarpet"
           }
          ],
          "scattergeo": [
           {
            "marker": {
             "colorbar": {
              "outlinewidth": 0,
              "ticks": ""
             }
            },
            "type": "scattergeo"
           }
          ],
          "scattergl": [
           {
            "marker": {
             "colorbar": {
              "outlinewidth": 0,
              "ticks": ""
             }
            },
            "type": "scattergl"
           }
          ],
          "scattermap": [
           {
            "marker": {
             "colorbar": {
              "outlinewidth": 0,
              "ticks": ""
             }
            },
            "type": "scattermap"
           }
          ],
          "scattermapbox": [
           {
            "marker": {
             "colorbar": {
              "outlinewidth": 0,
              "ticks": ""
             }
            },
            "type": "scattermapbox"
           }
          ],
          "scatterpolar": [
           {
            "marker": {
             "colorbar": {
              "outlinewidth": 0,
              "ticks": ""
             }
            },
            "type": "scatterpolar"
           }
          ],
          "scatterpolargl": [
           {
            "marker": {
             "colorbar": {
              "outlinewidth": 0,
              "ticks": ""
             }
            },
            "type": "scatterpolargl"
           }
          ],
          "scatterternary": [
           {
            "marker": {
             "colorbar": {
              "outlinewidth": 0,
              "ticks": ""
             }
            },
            "type": "scatterternary"
           }
          ],
          "surface": [
           {
            "colorbar": {
             "outlinewidth": 0,
             "ticks": ""
            },
            "colorscale": [
             [
              0,
              "#0d0887"
             ],
             [
              0.1111111111111111,
              "#46039f"
             ],
             [
              0.2222222222222222,
              "#7201a8"
             ],
             [
              0.3333333333333333,
              "#9c179e"
             ],
             [
              0.4444444444444444,
              "#bd3786"
             ],
             [
              0.5555555555555556,
              "#d8576b"
             ],
             [
              0.6666666666666666,
              "#ed7953"
             ],
             [
              0.7777777777777778,
              "#fb9f3a"
             ],
             [
              0.8888888888888888,
              "#fdca26"
             ],
             [
              1,
              "#f0f921"
             ]
            ],
            "type": "surface"
           }
          ],
          "table": [
           {
            "cells": {
             "fill": {
              "color": "#EBF0F8"
             },
             "line": {
              "color": "white"
             }
            },
            "header": {
             "fill": {
              "color": "#C8D4E3"
             },
             "line": {
              "color": "white"
             }
            },
            "type": "table"
           }
          ]
         },
         "layout": {
          "annotationdefaults": {
           "arrowcolor": "#2a3f5f",
           "arrowhead": 0,
           "arrowwidth": 1
          },
          "autotypenumbers": "strict",
          "coloraxis": {
           "colorbar": {
            "outlinewidth": 0,
            "ticks": ""
           }
          },
          "colorscale": {
           "diverging": [
            [
             0,
             "#8e0152"
            ],
            [
             0.1,
             "#c51b7d"
            ],
            [
             0.2,
             "#de77ae"
            ],
            [
             0.3,
             "#f1b6da"
            ],
            [
             0.4,
             "#fde0ef"
            ],
            [
             0.5,
             "#f7f7f7"
            ],
            [
             0.6,
             "#e6f5d0"
            ],
            [
             0.7,
             "#b8e186"
            ],
            [
             0.8,
             "#7fbc41"
            ],
            [
             0.9,
             "#4d9221"
            ],
            [
             1,
             "#276419"
            ]
           ],
           "sequential": [
            [
             0,
             "#0d0887"
            ],
            [
             0.1111111111111111,
             "#46039f"
            ],
            [
             0.2222222222222222,
             "#7201a8"
            ],
            [
             0.3333333333333333,
             "#9c179e"
            ],
            [
             0.4444444444444444,
             "#bd3786"
            ],
            [
             0.5555555555555556,
             "#d8576b"
            ],
            [
             0.6666666666666666,
             "#ed7953"
            ],
            [
             0.7777777777777778,
             "#fb9f3a"
            ],
            [
             0.8888888888888888,
             "#fdca26"
            ],
            [
             1,
             "#f0f921"
            ]
           ],
           "sequentialminus": [
            [
             0,
             "#0d0887"
            ],
            [
             0.1111111111111111,
             "#46039f"
            ],
            [
             0.2222222222222222,
             "#7201a8"
            ],
            [
             0.3333333333333333,
             "#9c179e"
            ],
            [
             0.4444444444444444,
             "#bd3786"
            ],
            [
             0.5555555555555556,
             "#d8576b"
            ],
            [
             0.6666666666666666,
             "#ed7953"
            ],
            [
             0.7777777777777778,
             "#fb9f3a"
            ],
            [
             0.8888888888888888,
             "#fdca26"
            ],
            [
             1,
             "#f0f921"
            ]
           ]
          },
          "colorway": [
           "#636efa",
           "#EF553B",
           "#00cc96",
           "#ab63fa",
           "#FFA15A",
           "#19d3f3",
           "#FF6692",
           "#B6E880",
           "#FF97FF",
           "#FECB52"
          ],
          "font": {
           "color": "#2a3f5f"
          },
          "geo": {
           "bgcolor": "white",
           "lakecolor": "white",
           "landcolor": "#E5ECF6",
           "showlakes": true,
           "showland": true,
           "subunitcolor": "white"
          },
          "hoverlabel": {
           "align": "left"
          },
          "hovermode": "closest",
          "mapbox": {
           "style": "light"
          },
          "paper_bgcolor": "white",
          "plot_bgcolor": "#E5ECF6",
          "polar": {
           "angularaxis": {
            "gridcolor": "white",
            "linecolor": "white",
            "ticks": ""
           },
           "bgcolor": "#E5ECF6",
           "radialaxis": {
            "gridcolor": "white",
            "linecolor": "white",
            "ticks": ""
           }
          },
          "scene": {
           "xaxis": {
            "backgroundcolor": "#E5ECF6",
            "gridcolor": "white",
            "gridwidth": 2,
            "linecolor": "white",
            "showbackground": true,
            "ticks": "",
            "zerolinecolor": "white"
           },
           "yaxis": {
            "backgroundcolor": "#E5ECF6",
            "gridcolor": "white",
            "gridwidth": 2,
            "linecolor": "white",
            "showbackground": true,
            "ticks": "",
            "zerolinecolor": "white"
           },
           "zaxis": {
            "backgroundcolor": "#E5ECF6",
            "gridcolor": "white",
            "gridwidth": 2,
            "linecolor": "white",
            "showbackground": true,
            "ticks": "",
            "zerolinecolor": "white"
           }
          },
          "shapedefaults": {
           "line": {
            "color": "#2a3f5f"
           }
          },
          "ternary": {
           "aaxis": {
            "gridcolor": "white",
            "linecolor": "white",
            "ticks": ""
           },
           "baxis": {
            "gridcolor": "white",
            "linecolor": "white",
            "ticks": ""
           },
           "bgcolor": "#E5ECF6",
           "caxis": {
            "gridcolor": "white",
            "linecolor": "white",
            "ticks": ""
           }
          },
          "title": {
           "x": 0.05
          },
          "xaxis": {
           "automargin": true,
           "gridcolor": "white",
           "linecolor": "white",
           "ticks": "",
           "title": {
            "standoff": 15
           },
           "zerolinecolor": "white",
           "zerolinewidth": 2
          },
          "yaxis": {
           "automargin": true,
           "gridcolor": "white",
           "linecolor": "white",
           "ticks": "",
           "title": {
            "standoff": 15
           },
           "zerolinecolor": "white",
           "zerolinewidth": 2
          }
         }
        },
        "width": 1280
       }
      }
     },
     "metadata": {},
     "output_type": "display_data"
    }
   ],
   "source": [
    "st_cat = df[[\"USState\",\n",
    "             \"Location_HQ\"]].groupby([\"USState\",\n",
    "                                       \"Location_HQ\"], as_index=False).size()\n",
    "\n",
    "import pandas as pd\n",
    "import plotly.express as px\n",
    "\n",
    "\n",
    "Ca_df = st_cat[st_cat['USState'] == 'California']\n",
    "\n",
    "# Create the treemap using the filtered DataFrame\n",
    "fig = px.treemap(Ca_df, width=1280, height=800,\n",
    "                 path=[\"USState\", \"Location_HQ\"], values='size',\n",
    "                 color='Location_HQ')\n",
    "fig.update_traces(textinfo=\"label+percent parent\")\n",
    "fig.show()"
   ]
  },
  {
   "cell_type": "markdown",
   "metadata": {},
   "source": [
    "And finally the filter for the region = San Francisco Bay Area."
   ]
  },
  {
   "cell_type": "code",
   "execution_count": 11,
   "metadata": {
    "execution": {
     "iopub.execute_input": "2024-07-08T17:38:29.146961Z",
     "iopub.status.busy": "2024-07-08T17:38:29.146096Z",
     "iopub.status.idle": "2024-07-08T17:38:29.254120Z",
     "shell.execute_reply": "2024-07-08T17:38:29.252851Z",
     "shell.execute_reply.started": "2024-07-08T17:38:29.146924Z"
    },
    "trusted": true
   },
   "outputs": [
    {
     "data": {
      "application/vnd.plotly.v1+json": {
       "config": {
        "plotlyServerURL": "https://plot.ly"
       },
       "data": [
        {
         "branchvalues": "total",
         "customdata": [
          [
           "(?)"
          ],
          [
           "Alameda"
          ],
          [
           "Berkeley"
          ],
          [
           "Burlingame"
          ],
          [
           "Campbell"
          ],
          [
           "Cupertino"
          ],
          [
           "Forster City"
          ],
          [
           "Foster City"
          ],
          [
           "Fremont"
          ],
          [
           "Gilroy"
          ],
          [
           "Hayward"
          ],
          [
           "Livermore"
          ],
          [
           "Los Altos"
          ],
          [
           "Los Gatos"
          ],
          [
           "Menlo Park"
          ],
          [
           "Milpitas"
          ],
          [
           "Mountain View"
          ],
          [
           "Newark"
          ],
          [
           "North Bethesda"
          ],
          [
           "Oakland"
          ],
          [
           "Palo Alto"
          ],
          [
           "Pleasanton"
          ],
          [
           "Redwood City"
          ],
          [
           "Richmond"
          ],
          [
           "San Bruno"
          ],
          [
           "San Carlos"
          ],
          [
           "San Francisco"
          ],
          [
           "San Jose"
          ],
          [
           "San Leandro"
          ],
          [
           "San Mateo"
          ],
          [
           "San Rafael"
          ],
          [
           "San Ramon"
          ],
          [
           "Santa Clara"
          ],
          [
           "Sunnyvale"
          ],
          [
           "Walnut"
          ],
          [
           "Walnut Creek"
          ]
         ],
         "domain": {
          "x": [
           0,
           1
          ],
          "y": [
           0,
           1
          ]
         },
         "hovertemplate": "labels=%{label}<br>size=%{value}<br>parent=%{parent}<br>id=%{id}<br>Location_HQ=%{customdata[0]}<extra></extra>",
         "ids": [
          "San Francisco Bay Area",
          "San Francisco Bay Area/Alameda",
          "San Francisco Bay Area/Berkeley",
          "San Francisco Bay Area/Burlingame",
          "San Francisco Bay Area/Campbell",
          "San Francisco Bay Area/Cupertino",
          "San Francisco Bay Area/Forster City",
          "San Francisco Bay Area/Foster City",
          "San Francisco Bay Area/Fremont",
          "San Francisco Bay Area/Gilroy",
          "San Francisco Bay Area/Hayward",
          "San Francisco Bay Area/Livermore",
          "San Francisco Bay Area/Los Altos",
          "San Francisco Bay Area/Los Gatos",
          "San Francisco Bay Area/Menlo Park",
          "San Francisco Bay Area/Milpitas",
          "San Francisco Bay Area/Mountain View",
          "San Francisco Bay Area/Newark",
          "San Francisco Bay Area/North Bethesda",
          "San Francisco Bay Area/Oakland",
          "San Francisco Bay Area/Palo Alto",
          "San Francisco Bay Area/Pleasanton",
          "San Francisco Bay Area/Redwood City",
          "San Francisco Bay Area/Richmond",
          "San Francisco Bay Area/San Bruno",
          "San Francisco Bay Area/San Carlos",
          "San Francisco Bay Area/San Francisco",
          "San Francisco Bay Area/San Jose",
          "San Francisco Bay Area/San Leandro",
          "San Francisco Bay Area/San Mateo",
          "San Francisco Bay Area/San Rafael",
          "San Francisco Bay Area/San Ramon",
          "San Francisco Bay Area/Santa Clara",
          "San Francisco Bay Area/Sunnyvale",
          "San Francisco Bay Area/Walnut",
          "San Francisco Bay Area/Walnut Creek"
         ],
         "labels": [
          "San Francisco Bay Area",
          "Alameda",
          "Berkeley",
          "Burlingame",
          "Campbell",
          "Cupertino",
          "Forster City",
          "Foster City",
          "Fremont",
          "Gilroy",
          "Hayward",
          "Livermore",
          "Los Altos",
          "Los Gatos",
          "Menlo Park",
          "Milpitas",
          "Mountain View",
          "Newark",
          "North Bethesda",
          "Oakland",
          "Palo Alto",
          "Pleasanton",
          "Redwood City",
          "Richmond",
          "San Bruno",
          "San Carlos",
          "San Francisco",
          "San Jose",
          "San Leandro",
          "San Mateo",
          "San Rafael",
          "San Ramon",
          "Santa Clara",
          "Sunnyvale",
          "Walnut",
          "Walnut Creek"
         ],
         "marker": {
          "colors": [
           "#636efa",
           "#EF553B",
           "#00cc96",
           "#ab63fa",
           "#FFA15A",
           "#19d3f3",
           "#FF6692",
           "#B6E880",
           "#FF97FF",
           "#FECB52",
           "#636efa",
           "#EF553B",
           "#00cc96",
           "#ab63fa",
           "#FFA15A",
           "#19d3f3",
           "#FF6692",
           "#B6E880",
           "#FF97FF",
           "#FECB52",
           "#636efa",
           "#EF553B",
           "#00cc96",
           "#ab63fa",
           "#FFA15A",
           "#19d3f3",
           "#FF6692",
           "#B6E880",
           "#FF97FF",
           "#FECB52",
           "#636efa",
           "#EF553B",
           "#00cc96",
           "#ab63fa",
           "#FFA15A",
           "#19d3f3"
          ]
         },
         "name": "",
         "parents": [
          "",
          "San Francisco Bay Area",
          "San Francisco Bay Area",
          "San Francisco Bay Area",
          "San Francisco Bay Area",
          "San Francisco Bay Area",
          "San Francisco Bay Area",
          "San Francisco Bay Area",
          "San Francisco Bay Area",
          "San Francisco Bay Area",
          "San Francisco Bay Area",
          "San Francisco Bay Area",
          "San Francisco Bay Area",
          "San Francisco Bay Area",
          "San Francisco Bay Area",
          "San Francisco Bay Area",
          "San Francisco Bay Area",
          "San Francisco Bay Area",
          "San Francisco Bay Area",
          "San Francisco Bay Area",
          "San Francisco Bay Area",
          "San Francisco Bay Area",
          "San Francisco Bay Area",
          "San Francisco Bay Area",
          "San Francisco Bay Area",
          "San Francisco Bay Area",
          "San Francisco Bay Area",
          "San Francisco Bay Area",
          "San Francisco Bay Area",
          "San Francisco Bay Area",
          "San Francisco Bay Area",
          "San Francisco Bay Area",
          "San Francisco Bay Area",
          "San Francisco Bay Area",
          "San Francisco Bay Area",
          "San Francisco Bay Area"
         ],
         "textinfo": "label+percent parent",
         "type": "treemap",
         "values": {
          "bdata": "AAAAAAB4gkAAAAAAAADwPwAAAAAAABxAAAAAAAAAAEAAAAAAAAAUQAAAAAAAAAhAAAAAAAAA8D8AAAAAAADwPwAAAAAAABhAAAAAAAAA8D8AAAAAAAAIQAAAAAAAAPA/AAAAAAAA8D8AAAAAAAAAQAAAAAAAADJAAAAAAAAAAEAAAAAAAAA/QAAAAAAAAABAAAAAAAAAAEAAAAAAAAAQQAAAAAAAAENAAAAAAAAAFEAAAAAAAAAuQAAAAAAAAAhAAAAAAAAAAEAAAAAAAAAIQAAAAAAAYHZAAAAAAAAAN0AAAAAAAADwPwAAAAAAAChAAAAAAAAA8D8AAAAAAAAAQAAAAAAAADVAAAAAAAAAJEAAAAAAAAAIQAAAAAAAAPA/",
          "dtype": "f8"
         }
        }
       ],
       "layout": {
        "height": 800,
        "legend": {
         "tracegroupgap": 0
        },
        "margin": {
         "t": 60
        },
        "template": {
         "data": {
          "bar": [
           {
            "error_x": {
             "color": "#2a3f5f"
            },
            "error_y": {
             "color": "#2a3f5f"
            },
            "marker": {
             "line": {
              "color": "#E5ECF6",
              "width": 0.5
             },
             "pattern": {
              "fillmode": "overlay",
              "size": 10,
              "solidity": 0.2
             }
            },
            "type": "bar"
           }
          ],
          "barpolar": [
           {
            "marker": {
             "line": {
              "color": "#E5ECF6",
              "width": 0.5
             },
             "pattern": {
              "fillmode": "overlay",
              "size": 10,
              "solidity": 0.2
             }
            },
            "type": "barpolar"
           }
          ],
          "carpet": [
           {
            "aaxis": {
             "endlinecolor": "#2a3f5f",
             "gridcolor": "white",
             "linecolor": "white",
             "minorgridcolor": "white",
             "startlinecolor": "#2a3f5f"
            },
            "baxis": {
             "endlinecolor": "#2a3f5f",
             "gridcolor": "white",
             "linecolor": "white",
             "minorgridcolor": "white",
             "startlinecolor": "#2a3f5f"
            },
            "type": "carpet"
           }
          ],
          "choropleth": [
           {
            "colorbar": {
             "outlinewidth": 0,
             "ticks": ""
            },
            "type": "choropleth"
           }
          ],
          "contour": [
           {
            "colorbar": {
             "outlinewidth": 0,
             "ticks": ""
            },
            "colorscale": [
             [
              0,
              "#0d0887"
             ],
             [
              0.1111111111111111,
              "#46039f"
             ],
             [
              0.2222222222222222,
              "#7201a8"
             ],
             [
              0.3333333333333333,
              "#9c179e"
             ],
             [
              0.4444444444444444,
              "#bd3786"
             ],
             [
              0.5555555555555556,
              "#d8576b"
             ],
             [
              0.6666666666666666,
              "#ed7953"
             ],
             [
              0.7777777777777778,
              "#fb9f3a"
             ],
             [
              0.8888888888888888,
              "#fdca26"
             ],
             [
              1,
              "#f0f921"
             ]
            ],
            "type": "contour"
           }
          ],
          "contourcarpet": [
           {
            "colorbar": {
             "outlinewidth": 0,
             "ticks": ""
            },
            "type": "contourcarpet"
           }
          ],
          "heatmap": [
           {
            "colorbar": {
             "outlinewidth": 0,
             "ticks": ""
            },
            "colorscale": [
             [
              0,
              "#0d0887"
             ],
             [
              0.1111111111111111,
              "#46039f"
             ],
             [
              0.2222222222222222,
              "#7201a8"
             ],
             [
              0.3333333333333333,
              "#9c179e"
             ],
             [
              0.4444444444444444,
              "#bd3786"
             ],
             [
              0.5555555555555556,
              "#d8576b"
             ],
             [
              0.6666666666666666,
              "#ed7953"
             ],
             [
              0.7777777777777778,
              "#fb9f3a"
             ],
             [
              0.8888888888888888,
              "#fdca26"
             ],
             [
              1,
              "#f0f921"
             ]
            ],
            "type": "heatmap"
           }
          ],
          "histogram": [
           {
            "marker": {
             "pattern": {
              "fillmode": "overlay",
              "size": 10,
              "solidity": 0.2
             }
            },
            "type": "histogram"
           }
          ],
          "histogram2d": [
           {
            "colorbar": {
             "outlinewidth": 0,
             "ticks": ""
            },
            "colorscale": [
             [
              0,
              "#0d0887"
             ],
             [
              0.1111111111111111,
              "#46039f"
             ],
             [
              0.2222222222222222,
              "#7201a8"
             ],
             [
              0.3333333333333333,
              "#9c179e"
             ],
             [
              0.4444444444444444,
              "#bd3786"
             ],
             [
              0.5555555555555556,
              "#d8576b"
             ],
             [
              0.6666666666666666,
              "#ed7953"
             ],
             [
              0.7777777777777778,
              "#fb9f3a"
             ],
             [
              0.8888888888888888,
              "#fdca26"
             ],
             [
              1,
              "#f0f921"
             ]
            ],
            "type": "histogram2d"
           }
          ],
          "histogram2dcontour": [
           {
            "colorbar": {
             "outlinewidth": 0,
             "ticks": ""
            },
            "colorscale": [
             [
              0,
              "#0d0887"
             ],
             [
              0.1111111111111111,
              "#46039f"
             ],
             [
              0.2222222222222222,
              "#7201a8"
             ],
             [
              0.3333333333333333,
              "#9c179e"
             ],
             [
              0.4444444444444444,
              "#bd3786"
             ],
             [
              0.5555555555555556,
              "#d8576b"
             ],
             [
              0.6666666666666666,
              "#ed7953"
             ],
             [
              0.7777777777777778,
              "#fb9f3a"
             ],
             [
              0.8888888888888888,
              "#fdca26"
             ],
             [
              1,
              "#f0f921"
             ]
            ],
            "type": "histogram2dcontour"
           }
          ],
          "mesh3d": [
           {
            "colorbar": {
             "outlinewidth": 0,
             "ticks": ""
            },
            "type": "mesh3d"
           }
          ],
          "parcoords": [
           {
            "line": {
             "colorbar": {
              "outlinewidth": 0,
              "ticks": ""
             }
            },
            "type": "parcoords"
           }
          ],
          "pie": [
           {
            "automargin": true,
            "type": "pie"
           }
          ],
          "scatter": [
           {
            "fillpattern": {
             "fillmode": "overlay",
             "size": 10,
             "solidity": 0.2
            },
            "type": "scatter"
           }
          ],
          "scatter3d": [
           {
            "line": {
             "colorbar": {
              "outlinewidth": 0,
              "ticks": ""
             }
            },
            "marker": {
             "colorbar": {
              "outlinewidth": 0,
              "ticks": ""
             }
            },
            "type": "scatter3d"
           }
          ],
          "scattercarpet": [
           {
            "marker": {
             "colorbar": {
              "outlinewidth": 0,
              "ticks": ""
             }
            },
            "type": "scattercarpet"
           }
          ],
          "scattergeo": [
           {
            "marker": {
             "colorbar": {
              "outlinewidth": 0,
              "ticks": ""
             }
            },
            "type": "scattergeo"
           }
          ],
          "scattergl": [
           {
            "marker": {
             "colorbar": {
              "outlinewidth": 0,
              "ticks": ""
             }
            },
            "type": "scattergl"
           }
          ],
          "scattermap": [
           {
            "marker": {
             "colorbar": {
              "outlinewidth": 0,
              "ticks": ""
             }
            },
            "type": "scattermap"
           }
          ],
          "scattermapbox": [
           {
            "marker": {
             "colorbar": {
              "outlinewidth": 0,
              "ticks": ""
             }
            },
            "type": "scattermapbox"
           }
          ],
          "scatterpolar": [
           {
            "marker": {
             "colorbar": {
              "outlinewidth": 0,
              "ticks": ""
             }
            },
            "type": "scatterpolar"
           }
          ],
          "scatterpolargl": [
           {
            "marker": {
             "colorbar": {
              "outlinewidth": 0,
              "ticks": ""
             }
            },
            "type": "scatterpolargl"
           }
          ],
          "scatterternary": [
           {
            "marker": {
             "colorbar": {
              "outlinewidth": 0,
              "ticks": ""
             }
            },
            "type": "scatterternary"
           }
          ],
          "surface": [
           {
            "colorbar": {
             "outlinewidth": 0,
             "ticks": ""
            },
            "colorscale": [
             [
              0,
              "#0d0887"
             ],
             [
              0.1111111111111111,
              "#46039f"
             ],
             [
              0.2222222222222222,
              "#7201a8"
             ],
             [
              0.3333333333333333,
              "#9c179e"
             ],
             [
              0.4444444444444444,
              "#bd3786"
             ],
             [
              0.5555555555555556,
              "#d8576b"
             ],
             [
              0.6666666666666666,
              "#ed7953"
             ],
             [
              0.7777777777777778,
              "#fb9f3a"
             ],
             [
              0.8888888888888888,
              "#fdca26"
             ],
             [
              1,
              "#f0f921"
             ]
            ],
            "type": "surface"
           }
          ],
          "table": [
           {
            "cells": {
             "fill": {
              "color": "#EBF0F8"
             },
             "line": {
              "color": "white"
             }
            },
            "header": {
             "fill": {
              "color": "#C8D4E3"
             },
             "line": {
              "color": "white"
             }
            },
            "type": "table"
           }
          ]
         },
         "layout": {
          "annotationdefaults": {
           "arrowcolor": "#2a3f5f",
           "arrowhead": 0,
           "arrowwidth": 1
          },
          "autotypenumbers": "strict",
          "coloraxis": {
           "colorbar": {
            "outlinewidth": 0,
            "ticks": ""
           }
          },
          "colorscale": {
           "diverging": [
            [
             0,
             "#8e0152"
            ],
            [
             0.1,
             "#c51b7d"
            ],
            [
             0.2,
             "#de77ae"
            ],
            [
             0.3,
             "#f1b6da"
            ],
            [
             0.4,
             "#fde0ef"
            ],
            [
             0.5,
             "#f7f7f7"
            ],
            [
             0.6,
             "#e6f5d0"
            ],
            [
             0.7,
             "#b8e186"
            ],
            [
             0.8,
             "#7fbc41"
            ],
            [
             0.9,
             "#4d9221"
            ],
            [
             1,
             "#276419"
            ]
           ],
           "sequential": [
            [
             0,
             "#0d0887"
            ],
            [
             0.1111111111111111,
             "#46039f"
            ],
            [
             0.2222222222222222,
             "#7201a8"
            ],
            [
             0.3333333333333333,
             "#9c179e"
            ],
            [
             0.4444444444444444,
             "#bd3786"
            ],
            [
             0.5555555555555556,
             "#d8576b"
            ],
            [
             0.6666666666666666,
             "#ed7953"
            ],
            [
             0.7777777777777778,
             "#fb9f3a"
            ],
            [
             0.8888888888888888,
             "#fdca26"
            ],
            [
             1,
             "#f0f921"
            ]
           ],
           "sequentialminus": [
            [
             0,
             "#0d0887"
            ],
            [
             0.1111111111111111,
             "#46039f"
            ],
            [
             0.2222222222222222,
             "#7201a8"
            ],
            [
             0.3333333333333333,
             "#9c179e"
            ],
            [
             0.4444444444444444,
             "#bd3786"
            ],
            [
             0.5555555555555556,
             "#d8576b"
            ],
            [
             0.6666666666666666,
             "#ed7953"
            ],
            [
             0.7777777777777778,
             "#fb9f3a"
            ],
            [
             0.8888888888888888,
             "#fdca26"
            ],
            [
             1,
             "#f0f921"
            ]
           ]
          },
          "colorway": [
           "#636efa",
           "#EF553B",
           "#00cc96",
           "#ab63fa",
           "#FFA15A",
           "#19d3f3",
           "#FF6692",
           "#B6E880",
           "#FF97FF",
           "#FECB52"
          ],
          "font": {
           "color": "#2a3f5f"
          },
          "geo": {
           "bgcolor": "white",
           "lakecolor": "white",
           "landcolor": "#E5ECF6",
           "showlakes": true,
           "showland": true,
           "subunitcolor": "white"
          },
          "hoverlabel": {
           "align": "left"
          },
          "hovermode": "closest",
          "mapbox": {
           "style": "light"
          },
          "paper_bgcolor": "white",
          "plot_bgcolor": "#E5ECF6",
          "polar": {
           "angularaxis": {
            "gridcolor": "white",
            "linecolor": "white",
            "ticks": ""
           },
           "bgcolor": "#E5ECF6",
           "radialaxis": {
            "gridcolor": "white",
            "linecolor": "white",
            "ticks": ""
           }
          },
          "scene": {
           "xaxis": {
            "backgroundcolor": "#E5ECF6",
            "gridcolor": "white",
            "gridwidth": 2,
            "linecolor": "white",
            "showbackground": true,
            "ticks": "",
            "zerolinecolor": "white"
           },
           "yaxis": {
            "backgroundcolor": "#E5ECF6",
            "gridcolor": "white",
            "gridwidth": 2,
            "linecolor": "white",
            "showbackground": true,
            "ticks": "",
            "zerolinecolor": "white"
           },
           "zaxis": {
            "backgroundcolor": "#E5ECF6",
            "gridcolor": "white",
            "gridwidth": 2,
            "linecolor": "white",
            "showbackground": true,
            "ticks": "",
            "zerolinecolor": "white"
           }
          },
          "shapedefaults": {
           "line": {
            "color": "#2a3f5f"
           }
          },
          "ternary": {
           "aaxis": {
            "gridcolor": "white",
            "linecolor": "white",
            "ticks": ""
           },
           "baxis": {
            "gridcolor": "white",
            "linecolor": "white",
            "ticks": ""
           },
           "bgcolor": "#E5ECF6",
           "caxis": {
            "gridcolor": "white",
            "linecolor": "white",
            "ticks": ""
           }
          },
          "title": {
           "x": 0.05
          },
          "xaxis": {
           "automargin": true,
           "gridcolor": "white",
           "linecolor": "white",
           "ticks": "",
           "title": {
            "standoff": 15
           },
           "zerolinecolor": "white",
           "zerolinewidth": 2
          },
          "yaxis": {
           "automargin": true,
           "gridcolor": "white",
           "linecolor": "white",
           "ticks": "",
           "title": {
            "standoff": 15
           },
           "zerolinecolor": "white",
           "zerolinewidth": 2
          }
         }
        },
        "width": 1280
       }
      }
     },
     "metadata": {},
     "output_type": "display_data"
    }
   ],
   "source": [
    "re_cat = df[[\"Region\",\n",
    "             \"Location_HQ\"]].groupby([\"Region\",\n",
    "                                       \"Location_HQ\"], as_index=False).size()\n",
    "\n",
    "import pandas as pd\n",
    "import plotly.express as px\n",
    "\n",
    "\n",
    "SF_df = re_cat[re_cat['Region'] == 'San Francisco Bay Area']\n",
    "\n",
    "# Create the treemap using the filtered DataFrame\n",
    "fig = px.treemap(SF_df, width=1280, height=800,\n",
    "                 path=[\"Region\", \"Location_HQ\"], values='size',\n",
    "                 color='Location_HQ')\n",
    "fig.update_traces(textinfo=\"label+percent parent\")\n",
    "fig.show()"
   ]
  },
  {
   "cell_type": "markdown",
   "metadata": {},
   "source": []
  }
 ],
 "metadata": {
  "kaggle": {
   "accelerator": "none",
   "dataSources": [
    {
     "datasetId": 4363856,
     "sourceId": 8907976,
     "sourceType": "datasetVersion"
    }
   ],
   "dockerImageVersionId": 30732,
   "isGpuEnabled": false,
   "isInternetEnabled": true,
   "language": "python",
   "sourceType": "notebook"
  },
  "kernelspec": {
   "display_name": "tech_env",
   "language": "python",
   "name": "python3"
  },
  "language_info": {
   "codemirror_mode": {
    "name": "ipython",
    "version": 3
   },
   "file_extension": ".py",
   "mimetype": "text/x-python",
   "name": "python",
   "nbconvert_exporter": "python",
   "pygments_lexer": "ipython3",
   "version": "3.13.5"
  }
 },
 "nbformat": 4,
 "nbformat_minor": 4
}
